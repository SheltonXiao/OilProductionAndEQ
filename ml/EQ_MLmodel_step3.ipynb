{
 "cells": [
  {
   "cell_type": "code",
   "execution_count": 1,
   "metadata": {},
   "outputs": [],
   "source": [
    "import numpy as np\n",
    "from scipy.stats import norm\n",
    "import pandas as pd\n",
    "import datetime\n",
    "import time\n",
    "import calendar\n",
    "import matplotlib.pyplot as plt\n",
    "from sklearn.naive_bayes import GaussianNB\n",
    "from sklearn.datasets import load_iris\n",
    "from sklearn.model_selection import train_test_split\n",
    "from sklearn.ensemble import RandomForestClassifier  # 导入sklearn库的RandomForestClassifier函数\n",
    "from sklearn.model_selection import train_test_split\n",
    "from sklearn import metrics  # 分类结果评价函数\n",
    "import seaborn as sns\n",
    "from sklearn.ensemble import GradientBoostingClassifier\n",
    "from sklearn.model_selection import train_test_split\n",
    "from sklearn.metrics import mean_squared_error\n",
    "from sklearn.inspection import permutation_importance\n",
    "import matplotlib\n",
    "import matplotlib as mpl\n",
    "\n",
    "%matplotlib inline"
   ]
  },
  {
   "cell_type": "code",
   "execution_count": 2,
   "metadata": {},
   "outputs": [],
   "source": [
    "def load_eq():\n",
    "    eq = pd.read_csv('final\\eq_step3.csv')\n",
    "    eq.dropna(inplace=True,axis=0)\n",
    "    label = eq['Label']\n",
    "    eq = eq[['MAG', 'LAT', 'LON', 'DEPTH', 'NPH', 'NGRM']]\n",
    "    #eq = eq[['MAG', 'LAT', 'LON', 'DEPTH', 'NPH', 'NGRM', 'Water or Steam Injected (bbl)', 'Gas or Air Injected (Mcf)', 'Oil Produced (bbl)', 'Water Produced (bbl)', 'Gas Produced (Mcf)']]\n",
    "    return eq, label"
   ]
  },
  {
   "cell_type": "code",
   "execution_count": 3,
   "metadata": {},
   "outputs": [],
   "source": [
    "def load_new_eq():\n",
    "    eq = pd.read_csv('final\\eq_step1.csv')\n",
    "    temp = pd.read_csv('final\\eq_step2.csv')\n",
    "    eq = pd.concat([eq, temp])\n",
    "    temp = pd.read_csv('final\\eq_step3.csv')\n",
    "    eq = pd.concat([eq, temp])\n",
    "    eq.dropna(inplace=True,axis=0)\n",
    "    label = eq['Label']\n",
    "    eq = eq[['MAG', 'LAT', 'LON', 'DEPTH', 'NPH', 'NGRM', 'Water or Steam Injected (bbl)', 'Gas or Air Injected (Mcf)', 'Oil Produced (bbl)', 'Water Produced (bbl)', 'Gas Produced (Mcf)']]\n",
    "    return eq, label"
   ]
  },
  {
   "cell_type": "code",
   "execution_count": 4,
   "metadata": {},
   "outputs": [
    {
     "name": "stdout",
     "output_type": "stream",
     "text": [
      "Int64Index([], dtype='int64')\n"
     ]
    },
    {
     "name": "stderr",
     "output_type": "stream",
     "text": [
      "C:\\Users\\omen of Hansen\\AppData\\Local\\Temp\\ipykernel_23712\\4025607264.py:6: FutureWarning: In a future version of pandas all arguments of DataFrame.any and Series.any will be keyword-only.\n",
      "  r = EQ.index[np.isinf(EQ).any(1)]\n"
     ]
    }
   ],
   "source": [
    "EQ, y = load_eq()\n",
    "X_train, X_test, y_train, y_test = train_test_split(EQ, y, test_size=0.2)\n",
    "EQ.dropna(inplace=True,axis=0)\n",
    "EQ.index[np.where(np.isnan(EQ))[0]] \n",
    "EQ = EQ[np.isfinite(EQ.T).all()]\n",
    "r = EQ.index[np.isinf(EQ).any(1)]\n",
    "print(r)"
   ]
  },
  {
   "cell_type": "code",
   "execution_count": 5,
   "metadata": {},
   "outputs": [
    {
     "name": "stdout",
     "output_type": "stream",
     "text": [
      "              precision    recall  f1-score   support\n",
      "\n",
      "           0       0.79      0.96      0.87      7553\n",
      "           1       0.92      0.64      0.76      5340\n",
      "\n",
      "    accuracy                           0.83     12893\n",
      "   macro avg       0.85      0.80      0.81     12893\n",
      "weighted avg       0.84      0.83      0.82     12893\n",
      "\n",
      "Gaussian Naive Bayes Classifier Score: 0.8283564725044598\n"
     ]
    }
   ],
   "source": [
    "EQ, y = load_new_eq()\n",
    "EQ = EQ[np.isfinite(EQ.T).all()]\n",
    "X_train, X_test, y_train, y_test = train_test_split(EQ, y, test_size=0.2)\n",
    "GNB = GaussianNB().fit(X_train, y_train)\n",
    "expected = y_test  # 测试样本的期望输出\n",
    "predicted = GNB.predict(X_test)  # 测试样本预测\n",
    "print(metrics.classification_report(expected, predicted))\n",
    "print (\"Gaussian Naive Bayes Classifier Score:\", GNB.score(X_test, y_test))"
   ]
  },
  {
   "cell_type": "code",
   "execution_count": 6,
   "metadata": {},
   "outputs": [
    {
     "name": "stdout",
     "output_type": "stream",
     "text": [
      "RandomForestClassifier()\n",
      "              precision    recall  f1-score   support\n",
      "\n",
      "           0       0.99      0.99      0.99      7553\n",
      "           1       0.99      0.99      0.99      5340\n",
      "\n",
      "    accuracy                           0.99     12893\n",
      "   macro avg       0.99      0.99      0.99     12893\n",
      "weighted avg       0.99      0.99      0.99     12893\n",
      "\n",
      "[[7480   73]\n",
      " [  52 5288]]\n",
      "Accuracy: 99.03%\n",
      "Random Forest Classifier Score: 0.9903048165671294\n"
     ]
    }
   ],
   "source": [
    "RF_model = RandomForestClassifier()  # 实例化模型RandomForestClassifier\n",
    "RF_model.fit(X_train, y_train)  # 在训练集上训练模型\n",
    "print(RF_model)  # 输出模型RandomForestClassifier\n",
    "\n",
    "# 在测试集上测试模型\n",
    "expected = y_test  # 测试样本的期望输出\n",
    "predicted = RF_model.predict(X_test)  # 测试样本预测\n",
    "\n",
    "# 输出结果\n",
    "print(metrics.classification_report(expected, predicted))  # 输出结果，精确度、召回率、f-1分数\n",
    "print(metrics.confusion_matrix(expected, predicted))  # 混淆矩阵\n",
    "\n",
    "#auc = metrics.roc_auc_score(y_test, predicted)\n",
    "accuracy = metrics.accuracy_score(y_test, predicted)  # 求精度\n",
    "print(\"Accuracy: %.2f%%\" % (accuracy * 100.0))\n",
    "print (\"Random Forest Classifier Score:\", RF_model.score(X_test, y_test))"
   ]
  },
  {
   "cell_type": "code",
   "execution_count": 7,
   "metadata": {},
   "outputs": [
    {
     "name": "stdout",
     "output_type": "stream",
     "text": [
      "The mean squared error (MSE) on test set: 0.0117\n"
     ]
    }
   ],
   "source": [
    "params = {'n_estimators': 500, # 弱分类器的个数\n",
    "          'max_depth': 3,       # 弱分类器（CART回归树）的最大深度\n",
    "          'min_samples_split': 5, # 分裂内部节点所需的最小样本数\n",
    "          'learning_rate': 0.05,  # 学习率\n",
    "          'loss': 'log_loss'}           # 损失函数：对数误差损失函数\n",
    "\n",
    "GBDTreg = GradientBoostingClassifier(**params)\n",
    "GBDTreg.fit(X_train, y_train)\n",
    "y_predict = GBDTreg.predict(X_test)\n",
    "\n",
    "mse = mean_squared_error(y_test, y_predict)\n",
    "print(\"The mean squared error (MSE) on test set: {:.4f}\".format(mse))"
   ]
  },
  {
   "cell_type": "code",
   "execution_count": 8,
   "metadata": {},
   "outputs": [
    {
     "name": "stdout",
     "output_type": "stream",
     "text": [
      "              precision    recall  f1-score   support\n",
      "\n",
      "           0       0.99      0.99      0.99      7553\n",
      "           1       0.98      0.99      0.99      5340\n",
      "\n",
      "    accuracy                           0.99     12893\n",
      "   macro avg       0.99      0.99      0.99     12893\n",
      "weighted avg       0.99      0.99      0.99     12893\n",
      "\n",
      "GBDT Classifier Score: 0.9882882184130923\n"
     ]
    }
   ],
   "source": [
    "expected = y_test  # 测试样本的期望输出\n",
    "predicted = GBDTreg.predict(X_test)  # 测试样本预测\n",
    "print(metrics.classification_report(expected, predicted))\n",
    "print (\"GBDT Classifier Score:\", GBDTreg.score(X_test, y_test))"
   ]
  },
  {
   "cell_type": "code",
   "execution_count": 9,
   "metadata": {},
   "outputs": [
    {
     "name": "stderr",
     "output_type": "stream",
     "text": [
      "C:\\Users\\omen of Hansen\\AppData\\Roaming\\Python\\Python310\\site-packages\\sklearn\\utils\\deprecation.py:101: FutureWarning: Attribute `loss_` was deprecated in version 1.1 and will be removed in 1.3.\n",
      "  warnings.warn(msg, category=FutureWarning)\n"
     ]
    },
    {
     "data": {
      "image/png": "[encoded data removed]",
      "text/plain": [
       "<Figure size 432x432 with 1 Axes>"
      ]
     },
     "metadata": {
      "needs_background": "light"
     },
     "output_type": "display_data"
    }
   ],
   "source": [
    "test_score = np.zeros((params['n_estimators'],), dtype=np.float64)\n",
    "for i, y_pred in enumerate(GBDTreg.staged_predict(X_test)):\n",
    "    test_score[i] = GBDTreg.loss_(y_test, y_pred)\n",
    "\n",
    "fig = plt.figure(figsize=(6, 6))\n",
    "plt.subplot(1, 1, 1)\n",
    "plt.title('Bias with The number of weak classifiers')\n",
    "plt.plot(np.arange(params['n_estimators']) + 1, GBDTreg.train_score_, 'b-',\n",
    "         label='Training set bias')\n",
    "plt.plot(np.arange(params['n_estimators']) + 1, test_score, 'r-',\n",
    "         label='Test set bias')\n",
    "plt.legend(loc='upper right')\n",
    "plt.xlabel('The number of weak classifiers')\n",
    "plt.ylabel('Bias')\n",
    "fig.tight_layout()"
   ]
  },
  {
   "cell_type": "code",
   "execution_count": 10,
   "metadata": {},
   "outputs": [
    {
     "name": "stdout",
     "output_type": "stream",
     "text": [
      "[0]\n",
      "[1]\n",
      "[1]\n"
     ]
    },
    {
     "name": "stderr",
     "output_type": "stream",
     "text": [
      "C:\\Users\\omen of Hansen\\AppData\\Roaming\\Python\\Python310\\site-packages\\sklearn\\base.py:420: UserWarning: X does not have valid feature names, but GaussianNB was fitted with feature names\n",
      "  warnings.warn(\n",
      "C:\\Users\\omen of Hansen\\AppData\\Roaming\\Python\\Python310\\site-packages\\sklearn\\base.py:420: UserWarning: X does not have valid feature names, but RandomForestClassifier was fitted with feature names\n",
      "  warnings.warn(\n",
      "C:\\Users\\omen of Hansen\\AppData\\Roaming\\Python\\Python310\\site-packages\\sklearn\\base.py:420: UserWarning: X does not have valid feature names, but GradientBoostingClassifier was fitted with feature names\n",
      "  warnings.warn(\n"
     ]
    }
   ],
   "source": [
    "x = np.array([1.46, 33.909, -117.994, 5.3, 37, 2071, 6447073, 3148, 141479, 7346593, 100979])\n",
    "\n",
    "x = x.reshape(1, -1)\n",
    "y1 = GNB.predict(x)\n",
    "y2 = RF_model.predict(x)\n",
    "y3 = GBDTreg.predict(x)\n",
    "print(y1)\n",
    "print(y2)\n",
    "print(y3)"
   ]
  },
  {
   "cell_type": "code",
   "execution_count": 11,
   "metadata": {},
   "outputs": [
    {
     "name": "stdout",
     "output_type": "stream",
     "text": [
      "[0]\n",
      "[0]\n",
      "[0]\n"
     ]
    },
    {
     "name": "stderr",
     "output_type": "stream",
     "text": [
      "C:\\Users\\omen of Hansen\\AppData\\Roaming\\Python\\Python310\\site-packages\\sklearn\\base.py:420: UserWarning: X does not have valid feature names, but GaussianNB was fitted with feature names\n",
      "  warnings.warn(\n",
      "C:\\Users\\omen of Hansen\\AppData\\Roaming\\Python\\Python310\\site-packages\\sklearn\\base.py:420: UserWarning: X does not have valid feature names, but RandomForestClassifier was fitted with feature names\n",
      "  warnings.warn(\n",
      "C:\\Users\\omen of Hansen\\AppData\\Roaming\\Python\\Python310\\site-packages\\sklearn\\base.py:420: UserWarning: X does not have valid feature names, but GradientBoostingClassifier was fitted with feature names\n",
      "  warnings.warn(\n"
     ]
    }
   ],
   "source": [
    "x = np.array([2.67, 34.444, -117.991, 4.7, 81, 117, 100, 100, 1000, 1000, 100])#9736 actually is negative\n",
    "x = x.reshape(1, -1)\n",
    "y1 = GNB.predict(x)\n",
    "y2 = RF_model.predict(x)\n",
    "y3 = GBDTreg.predict(x)\n",
    "print(y1)\n",
    "print(y2)\n",
    "print(y3)"
   ]
  }
 ],
 "metadata": {
  "kernelspec": {
   "display_name": "Python 3",
   "language": "python",
   "name": "python3"
  },
  "language_info": {
   "codemirror_mode": {
    "name": "ipython",
    "version": 3
   },
   "file_extension": ".py",
   "mimetype": "text/x-python",
   "name": "python",
   "nbconvert_exporter": "python",
   "pygments_lexer": "ipython3",
   "version": "3.10.0"
  },
  "orig_nbformat": 4
 },
 "nbformat": 4,
 "nbformat_minor": 2
}
