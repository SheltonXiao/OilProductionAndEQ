{
 "cells": [
  {
   "attachments": {},
   "cell_type": "markdown",
   "metadata": {},
   "source": [
    "# 02 Temporal feature extraction\n",
    "author: SheltonXiao (Tong Xiao)    \n",
    "2023/3/2"
   ]
  },
  {
   "cell_type": "code",
   "execution_count": 1,
   "metadata": {
    "vscode": {
     "languageId": "python"
    }
   },
   "outputs": [],
   "source": [
    "import os\n",
    "import numpy as np\n",
    "import pandas as pd\n",
    "from tqdm import trange\n",
    "from IPython.display import clear_output\n",
    "import matplotlib.pyplot as plt"
   ]
  },
  {
   "attachments": {},
   "cell_type": "markdown",
   "metadata": {},
   "source": [
    "## Well production"
   ]
  },
  {
   "attachments": {},
   "cell_type": "markdown",
   "metadata": {},
   "source": [
    "### Load data: Well information and time series"
   ]
  },
  {
   "cell_type": "markdown",
   "metadata": {},
   "source": [
    "well infomation"
   ]
  },
  {
   "cell_type": "code",
   "execution_count": 2,
   "metadata": {
    "vscode": {
     "languageId": "python"
    }
   },
   "outputs": [],
   "source": [
    "well_info = pd.read_csv(os.path.join(r\"data/processed\",\"well_injection_info.csv\"),index_col = 0,parse_dates=False)"
   ]
  },
  {
   "cell_type": "code",
   "execution_count": 3,
   "metadata": {
    "vscode": {
     "languageId": "python"
    }
   },
   "outputs": [
    {
     "data": {
      "text/html": [
       "<div>\n",
       "<style scoped>\n",
       "    .dataframe tbody tr th:only-of-type {\n",
       "        vertical-align: middle;\n",
       "    }\n",
       "\n",
       "    .dataframe tbody tr th {\n",
       "        vertical-align: top;\n",
       "    }\n",
       "\n",
       "    .dataframe thead th {\n",
       "        text-align: right;\n",
       "    }\n",
       "</style>\n",
       "<table border=\"1\" class=\"dataframe\">\n",
       "  <thead>\n",
       "    <tr style=\"text-align: right;\">\n",
       "      <th></th>\n",
       "      <th>Operator Name</th>\n",
       "      <th>County Name</th>\n",
       "      <th>Field Name</th>\n",
       "      <th>Lease Name</th>\n",
       "      <th>Well #</th>\n",
       "      <th>Area Name</th>\n",
       "      <th>Area Code</th>\n",
       "      <th>District #</th>\n",
       "      <th>Section</th>\n",
       "      <th>Township</th>\n",
       "      <th>Range</th>\n",
       "      <th>Base Meridian</th>\n",
       "      <th>Latitude</th>\n",
       "      <th>Longitude</th>\n",
       "    </tr>\n",
       "    <tr>\n",
       "      <th>API #</th>\n",
       "      <th></th>\n",
       "      <th></th>\n",
       "      <th></th>\n",
       "      <th></th>\n",
       "      <th></th>\n",
       "      <th></th>\n",
       "      <th></th>\n",
       "      <th></th>\n",
       "      <th></th>\n",
       "      <th></th>\n",
       "      <th></th>\n",
       "      <th></th>\n",
       "      <th></th>\n",
       "      <th></th>\n",
       "    </tr>\n",
       "  </thead>\n",
       "  <tbody>\n",
       "    <tr>\n",
       "      <th>27300035</th>\n",
       "      <td>Mobil Oil Corporation</td>\n",
       "      <td>San Diego Offshore</td>\n",
       "      <td>Any Field</td>\n",
       "      <td>NaN</td>\n",
       "      <td>S.C. 1 C</td>\n",
       "      <td>Any Area</td>\n",
       "      <td>0</td>\n",
       "      <td>1</td>\n",
       "      <td>24</td>\n",
       "      <td>10S</td>\n",
       "      <td>07W</td>\n",
       "      <td>SB</td>\n",
       "      <td>33.292263</td>\n",
       "      <td>-117.568644</td>\n",
       "    </tr>\n",
       "    <tr>\n",
       "      <th>27320001</th>\n",
       "      <td>SWEPI, LP</td>\n",
       "      <td>San Diego Offshore</td>\n",
       "      <td>Any Field</td>\n",
       "      <td>Point Loma Core Hole</td>\n",
       "      <td>1</td>\n",
       "      <td>Any Area</td>\n",
       "      <td>0</td>\n",
       "      <td>1</td>\n",
       "      <td>28</td>\n",
       "      <td>17S</td>\n",
       "      <td>04W</td>\n",
       "      <td>SB</td>\n",
       "      <td>32.659824</td>\n",
       "      <td>-117.302973</td>\n",
       "    </tr>\n",
       "    <tr>\n",
       "      <th>27320002</th>\n",
       "      <td>SWEPI, LP</td>\n",
       "      <td>San Diego Offshore</td>\n",
       "      <td>Any Field</td>\n",
       "      <td>Oceanside Core Hole</td>\n",
       "      <td>1</td>\n",
       "      <td>Any Area</td>\n",
       "      <td>0</td>\n",
       "      <td>1</td>\n",
       "      <td>31</td>\n",
       "      <td>11S</td>\n",
       "      <td>05W</td>\n",
       "      <td>SB</td>\n",
       "      <td>33.184411</td>\n",
       "      <td>-117.436527</td>\n",
       "    </tr>\n",
       "    <tr>\n",
       "      <th>27320003</th>\n",
       "      <td>SWEPI, LP</td>\n",
       "      <td>San Diego Offshore</td>\n",
       "      <td>Any Field</td>\n",
       "      <td>Encinitas Core Hole</td>\n",
       "      <td>1</td>\n",
       "      <td>Any Area</td>\n",
       "      <td>0</td>\n",
       "      <td>1</td>\n",
       "      <td>12</td>\n",
       "      <td>13S</td>\n",
       "      <td>05W</td>\n",
       "      <td>SB</td>\n",
       "      <td>0.000000</td>\n",
       "      <td>0.000000</td>\n",
       "    </tr>\n",
       "    <tr>\n",
       "      <th>27320004</th>\n",
       "      <td>SWEPI, LP</td>\n",
       "      <td>San Diego Offshore</td>\n",
       "      <td>Any Field</td>\n",
       "      <td>La Jolla Core Hole</td>\n",
       "      <td>1</td>\n",
       "      <td>Any Area</td>\n",
       "      <td>0</td>\n",
       "      <td>1</td>\n",
       "      <td>24</td>\n",
       "      <td>15S</td>\n",
       "      <td>05W</td>\n",
       "      <td>SB</td>\n",
       "      <td>0.000000</td>\n",
       "      <td>0.000000</td>\n",
       "    </tr>\n",
       "  </tbody>\n",
       "</table>\n",
       "</div>"
      ],
      "text/plain": [
       "                  Operator Name         County Name Field Name  \\\n",
       "API #                                                            \n",
       "27300035  Mobil Oil Corporation  San Diego Offshore  Any Field   \n",
       "27320001              SWEPI, LP  San Diego Offshore  Any Field   \n",
       "27320002              SWEPI, LP  San Diego Offshore  Any Field   \n",
       "27320003              SWEPI, LP  San Diego Offshore  Any Field   \n",
       "27320004              SWEPI, LP  San Diego Offshore  Any Field   \n",
       "\n",
       "                    Lease Name    Well # Area Name  Area Code  District #  \\\n",
       "API #                                                                       \n",
       "27300035                   NaN  S.C. 1 C  Any Area          0           1   \n",
       "27320001  Point Loma Core Hole         1  Any Area          0           1   \n",
       "27320002   Oceanside Core Hole         1  Any Area          0           1   \n",
       "27320003   Encinitas Core Hole         1  Any Area          0           1   \n",
       "27320004    La Jolla Core Hole         1  Any Area          0           1   \n",
       "\n",
       "          Section Township Range Base Meridian   Latitude   Longitude  \n",
       "API #                                                                  \n",
       "27300035       24      10S   07W            SB  33.292263 -117.568644  \n",
       "27320001       28      17S   04W            SB  32.659824 -117.302973  \n",
       "27320002       31      11S   05W            SB  33.184411 -117.436527  \n",
       "27320003       12      13S   05W            SB   0.000000    0.000000  \n",
       "27320004       24      15S   05W            SB   0.000000    0.000000  "
      ]
     },
     "execution_count": 3,
     "metadata": {},
     "output_type": "execute_result"
    }
   ],
   "source": [
    "well_info.tail()"
   ]
  },
  {
   "cell_type": "markdown",
   "metadata": {},
   "source": [
    "injection data"
   ]
  },
  {
   "cell_type": "code",
   "execution_count": 4,
   "metadata": {
    "vscode": {
     "languageId": "python"
    }
   },
   "outputs": [
    {
     "name": "stderr",
     "output_type": "stream",
     "text": [
      "C:\\Users\\Intel\\AppData\\Local\\Temp\\ipykernel_18564\\3406319341.py:1: DtypeWarning: Columns (5,6) have mixed types. Specify dtype option on import or set low_memory=False.\n",
      "  injection = pd.read_csv(os.path.join(r\"data/processed\",\"well_injection_data_nonzero.csv\"),parse_dates=[\"Reported Date\"])\n"
     ]
    }
   ],
   "source": [
    "injection = pd.read_csv(os.path.join(r\"data/processed\",\"well_injection_data_nonzero.csv\"),parse_dates=[\"Reported Date\"])"
   ]
  },
  {
   "cell_type": "code",
   "execution_count": 5,
   "metadata": {
    "vscode": {
     "languageId": "python"
    }
   },
   "outputs": [
    {
     "data": {
      "text/html": [
       "<div>\n",
       "<style scoped>\n",
       "    .dataframe tbody tr th:only-of-type {\n",
       "        vertical-align: middle;\n",
       "    }\n",
       "\n",
       "    .dataframe tbody tr th {\n",
       "        vertical-align: top;\n",
       "    }\n",
       "\n",
       "    .dataframe thead th {\n",
       "        text-align: right;\n",
       "    }\n",
       "</style>\n",
       "<table border=\"1\" class=\"dataframe\">\n",
       "  <thead>\n",
       "    <tr style=\"text-align: right;\">\n",
       "      <th></th>\n",
       "      <th>API Number</th>\n",
       "      <th>Injection Date</th>\n",
       "      <th>Water or Steam Injected (bbl)</th>\n",
       "      <th>Days Well Injected</th>\n",
       "      <th>Surface Injection Pressure</th>\n",
       "      <th>Source of Water</th>\n",
       "      <th>Kind of Water</th>\n",
       "      <th>PWT Status</th>\n",
       "      <th>Well Type</th>\n",
       "      <th>Status</th>\n",
       "      <th>Pool Code</th>\n",
       "      <th>Reported Date</th>\n",
       "      <th>Year</th>\n",
       "      <th>Month</th>\n",
       "      <th>Gas or Air Injected (Mcf)</th>\n",
       "    </tr>\n",
       "  </thead>\n",
       "  <tbody>\n",
       "    <tr>\n",
       "      <th>0</th>\n",
       "      <td>3700025</td>\n",
       "      <td>Sep-1991</td>\n",
       "      <td>470.0</td>\n",
       "      <td>2.0</td>\n",
       "      <td>100.0</td>\n",
       "      <td>0.0</td>\n",
       "      <td>0.0</td>\n",
       "      <td>P</td>\n",
       "      <td>WD</td>\n",
       "      <td>5.0</td>\n",
       "      <td>7.0</td>\n",
       "      <td>1991-09-01</td>\n",
       "      <td>1991</td>\n",
       "      <td>Sep</td>\n",
       "      <td>NaN</td>\n",
       "    </tr>\n",
       "    <tr>\n",
       "      <th>1</th>\n",
       "      <td>3700025</td>\n",
       "      <td>Aug-1991</td>\n",
       "      <td>8464.0</td>\n",
       "      <td>31.0</td>\n",
       "      <td>100.0</td>\n",
       "      <td>0.0</td>\n",
       "      <td>0.0</td>\n",
       "      <td>P</td>\n",
       "      <td>WD</td>\n",
       "      <td>0.0</td>\n",
       "      <td>7.0</td>\n",
       "      <td>1991-08-01</td>\n",
       "      <td>1991</td>\n",
       "      <td>Aug</td>\n",
       "      <td>NaN</td>\n",
       "    </tr>\n",
       "    <tr>\n",
       "      <th>2</th>\n",
       "      <td>3700025</td>\n",
       "      <td>Jul-1991</td>\n",
       "      <td>8345.0</td>\n",
       "      <td>31.0</td>\n",
       "      <td>121.0</td>\n",
       "      <td>0.0</td>\n",
       "      <td>0.0</td>\n",
       "      <td>P</td>\n",
       "      <td>WD</td>\n",
       "      <td>0.0</td>\n",
       "      <td>7.0</td>\n",
       "      <td>1991-07-01</td>\n",
       "      <td>1991</td>\n",
       "      <td>Jul</td>\n",
       "      <td>NaN</td>\n",
       "    </tr>\n",
       "    <tr>\n",
       "      <th>3</th>\n",
       "      <td>3700025</td>\n",
       "      <td>Jun-1991</td>\n",
       "      <td>8429.0</td>\n",
       "      <td>30.0</td>\n",
       "      <td>144.0</td>\n",
       "      <td>0.0</td>\n",
       "      <td>0.0</td>\n",
       "      <td>P</td>\n",
       "      <td>WD</td>\n",
       "      <td>0.0</td>\n",
       "      <td>7.0</td>\n",
       "      <td>1991-06-01</td>\n",
       "      <td>1991</td>\n",
       "      <td>Jun</td>\n",
       "      <td>NaN</td>\n",
       "    </tr>\n",
       "    <tr>\n",
       "      <th>4</th>\n",
       "      <td>3700025</td>\n",
       "      <td>May-1991</td>\n",
       "      <td>10202.0</td>\n",
       "      <td>31.0</td>\n",
       "      <td>814.0</td>\n",
       "      <td>0.0</td>\n",
       "      <td>0.0</td>\n",
       "      <td>P</td>\n",
       "      <td>WD</td>\n",
       "      <td>0.0</td>\n",
       "      <td>7.0</td>\n",
       "      <td>1991-05-01</td>\n",
       "      <td>1991</td>\n",
       "      <td>May</td>\n",
       "      <td>NaN</td>\n",
       "    </tr>\n",
       "  </tbody>\n",
       "</table>\n",
       "</div>"
      ],
      "text/plain": [
       "   API Number Injection Date  Water or Steam Injected (bbl)  \\\n",
       "0     3700025       Sep-1991                          470.0   \n",
       "1     3700025       Aug-1991                         8464.0   \n",
       "2     3700025       Jul-1991                         8345.0   \n",
       "3     3700025       Jun-1991                         8429.0   \n",
       "4     3700025       May-1991                        10202.0   \n",
       "\n",
       "   Days Well Injected  Surface Injection Pressure Source of Water  \\\n",
       "0                 2.0                       100.0             0.0   \n",
       "1                31.0                       100.0             0.0   \n",
       "2                31.0                       121.0             0.0   \n",
       "3                30.0                       144.0             0.0   \n",
       "4                31.0                       814.0             0.0   \n",
       "\n",
       "  Kind of Water PWT Status Well Type  Status  Pool Code Reported Date  Year  \\\n",
       "0           0.0          P        WD     5.0        7.0    1991-09-01  1991   \n",
       "1           0.0          P        WD     0.0        7.0    1991-08-01  1991   \n",
       "2           0.0          P        WD     0.0        7.0    1991-07-01  1991   \n",
       "3           0.0          P        WD     0.0        7.0    1991-06-01  1991   \n",
       "4           0.0          P        WD     0.0        7.0    1991-05-01  1991   \n",
       "\n",
       "  Month  Gas or Air Injected (Mcf)  \n",
       "0   Sep                        NaN  \n",
       "1   Aug                        NaN  \n",
       "2   Jul                        NaN  \n",
       "3   Jun                        NaN  \n",
       "4   May                        NaN  "
      ]
     },
     "execution_count": 5,
     "metadata": {},
     "output_type": "execute_result"
    }
   ],
   "source": [
    "injection.head()"
   ]
  },
  {
   "cell_type": "code",
   "execution_count": 7,
   "metadata": {
    "vscode": {
     "languageId": "python"
    }
   },
   "outputs": [
    {
     "name": "stdout",
     "output_type": "stream",
     "text": [
      "<class 'pandas.core.frame.DataFrame'>\n",
      "RangeIndex: 695495 entries, 0 to 695494\n",
      "Data columns (total 15 columns):\n",
      " #   Column                         Non-Null Count   Dtype         \n",
      "---  ------                         --------------   -----         \n",
      " 0   API Number                     695495 non-null  int64         \n",
      " 1   Injection Date                 695495 non-null  object        \n",
      " 2   Water or Steam Injected (bbl)  680952 non-null  float64       \n",
      " 3   Days Well Injected             695495 non-null  float64       \n",
      " 4   Surface Injection Pressure     680897 non-null  float64       \n",
      " 5   Source of Water                691540 non-null  object        \n",
      " 6   Kind of Water                  686096 non-null  object        \n",
      " 7   PWT Status                     695495 non-null  object        \n",
      " 8   Well Type                      695495 non-null  object        \n",
      " 9   Status                         559837 non-null  float64       \n",
      " 10  Pool Code                      695495 non-null  float64       \n",
      " 11  Reported Date                  695495 non-null  datetime64[ns]\n",
      " 12  Year                           695495 non-null  int64         \n",
      " 13  Month                          695495 non-null  object        \n",
      " 14  Gas or Air Injected (Mcf)      297686 non-null  float64       \n",
      "dtypes: datetime64[ns](1), float64(6), int64(2), object(6)\n",
      "memory usage: 79.6+ MB\n"
     ]
    }
   ],
   "source": [
    "injection.info()"
   ]
  },
  {
   "cell_type": "markdown",
   "metadata": {},
   "source": [
    "production data"
   ]
  },
  {
   "cell_type": "code",
   "execution_count": 6,
   "metadata": {
    "vscode": {
     "languageId": "python"
    }
   },
   "outputs": [],
   "source": [
    "production = pd.read_csv(os.path.join(r\"data/processed\",\"well_production_data_nonzero.csv\"),parse_dates=[\"Reported Date\"])"
   ]
  },
  {
   "cell_type": "code",
   "execution_count": 7,
   "metadata": {
    "vscode": {
     "languageId": "python"
    }
   },
   "outputs": [
    {
     "data": {
      "text/html": [
       "<div>\n",
       "<style scoped>\n",
       "    .dataframe tbody tr th:only-of-type {\n",
       "        vertical-align: middle;\n",
       "    }\n",
       "\n",
       "    .dataframe tbody tr th {\n",
       "        vertical-align: top;\n",
       "    }\n",
       "\n",
       "    .dataframe thead th {\n",
       "        text-align: right;\n",
       "    }\n",
       "</style>\n",
       "<table border=\"1\" class=\"dataframe\">\n",
       "  <thead>\n",
       "    <tr style=\"text-align: right;\">\n",
       "      <th></th>\n",
       "      <th>API Number</th>\n",
       "      <th>Production Date</th>\n",
       "      <th>Oil Produced (bbl)</th>\n",
       "      <th>Water Produced (bbl)</th>\n",
       "      <th>Gas Produced (Mcf)</th>\n",
       "      <th>Days Well Produced</th>\n",
       "      <th>Gravity of Oil</th>\n",
       "      <th>Method of Operation</th>\n",
       "      <th>Water Disposition</th>\n",
       "      <th>PWT Status</th>\n",
       "      <th>Well Type</th>\n",
       "      <th>Status</th>\n",
       "      <th>Pool Code</th>\n",
       "      <th>Reported Date</th>\n",
       "      <th>Year</th>\n",
       "      <th>Month</th>\n",
       "      <th>Casing Pressure</th>\n",
       "      <th>Tubing Pressure</th>\n",
       "      <th>BTU</th>\n",
       "    </tr>\n",
       "  </thead>\n",
       "  <tbody>\n",
       "    <tr>\n",
       "      <th>2683201</th>\n",
       "      <td>25921761</td>\n",
       "      <td>Feb-2015</td>\n",
       "      <td>1123.0</td>\n",
       "      <td>14421.0</td>\n",
       "      <td>4.0</td>\n",
       "      <td>28.0</td>\n",
       "      <td>21.6</td>\n",
       "      <td>6.0</td>\n",
       "      <td>5.0</td>\n",
       "      <td>A</td>\n",
       "      <td>OG</td>\n",
       "      <td>0.0</td>\n",
       "      <td>0.0</td>\n",
       "      <td>2015-02-01</td>\n",
       "      <td>2015</td>\n",
       "      <td>Feb</td>\n",
       "      <td>36.0</td>\n",
       "      <td>95.0</td>\n",
       "      <td>1021.0</td>\n",
       "    </tr>\n",
       "    <tr>\n",
       "      <th>2683202</th>\n",
       "      <td>25921761</td>\n",
       "      <td>Jan-2015</td>\n",
       "      <td>894.0</td>\n",
       "      <td>16972.0</td>\n",
       "      <td>9.0</td>\n",
       "      <td>31.0</td>\n",
       "      <td>21.9</td>\n",
       "      <td>6.0</td>\n",
       "      <td>5.0</td>\n",
       "      <td>A</td>\n",
       "      <td>OG</td>\n",
       "      <td>0.0</td>\n",
       "      <td>0.0</td>\n",
       "      <td>2015-01-01</td>\n",
       "      <td>2015</td>\n",
       "      <td>Jan</td>\n",
       "      <td>26.0</td>\n",
       "      <td>90.0</td>\n",
       "      <td>1090.0</td>\n",
       "    </tr>\n",
       "    <tr>\n",
       "      <th>2683203</th>\n",
       "      <td>25921761</td>\n",
       "      <td>Dec-2014</td>\n",
       "      <td>1130.0</td>\n",
       "      <td>15596.0</td>\n",
       "      <td>13.0</td>\n",
       "      <td>31.0</td>\n",
       "      <td>21.7</td>\n",
       "      <td>6.0</td>\n",
       "      <td>5.0</td>\n",
       "      <td>A</td>\n",
       "      <td>OG</td>\n",
       "      <td>0.0</td>\n",
       "      <td>0.0</td>\n",
       "      <td>2014-12-01</td>\n",
       "      <td>2014</td>\n",
       "      <td>Dec</td>\n",
       "      <td>33.0</td>\n",
       "      <td>95.0</td>\n",
       "      <td>1024.0</td>\n",
       "    </tr>\n",
       "    <tr>\n",
       "      <th>2683204</th>\n",
       "      <td>25921761</td>\n",
       "      <td>Nov-2014</td>\n",
       "      <td>1147.0</td>\n",
       "      <td>16762.0</td>\n",
       "      <td>4.0</td>\n",
       "      <td>30.0</td>\n",
       "      <td>21.8</td>\n",
       "      <td>6.0</td>\n",
       "      <td>5.0</td>\n",
       "      <td>A</td>\n",
       "      <td>OG</td>\n",
       "      <td>0.0</td>\n",
       "      <td>0.0</td>\n",
       "      <td>2014-11-01</td>\n",
       "      <td>2014</td>\n",
       "      <td>Nov</td>\n",
       "      <td>28.0</td>\n",
       "      <td>85.0</td>\n",
       "      <td>1123.0</td>\n",
       "    </tr>\n",
       "    <tr>\n",
       "      <th>2683205</th>\n",
       "      <td>25921761</td>\n",
       "      <td>Oct-2014</td>\n",
       "      <td>917.0</td>\n",
       "      <td>13644.0</td>\n",
       "      <td>11.0</td>\n",
       "      <td>23.0</td>\n",
       "      <td>22.1</td>\n",
       "      <td>6.0</td>\n",
       "      <td>5.0</td>\n",
       "      <td>A</td>\n",
       "      <td>OG</td>\n",
       "      <td>0.0</td>\n",
       "      <td>0.0</td>\n",
       "      <td>2014-10-01</td>\n",
       "      <td>2014</td>\n",
       "      <td>Oct</td>\n",
       "      <td>0.0</td>\n",
       "      <td>0.0</td>\n",
       "      <td>1168.0</td>\n",
       "    </tr>\n",
       "  </tbody>\n",
       "</table>\n",
       "</div>"
      ],
      "text/plain": [
       "         API Number Production Date  Oil Produced (bbl)  Water Produced (bbl)  \\\n",
       "2683201    25921761        Feb-2015              1123.0               14421.0   \n",
       "2683202    25921761        Jan-2015               894.0               16972.0   \n",
       "2683203    25921761        Dec-2014              1130.0               15596.0   \n",
       "2683204    25921761        Nov-2014              1147.0               16762.0   \n",
       "2683205    25921761        Oct-2014               917.0               13644.0   \n",
       "\n",
       "         Gas Produced (Mcf)  Days Well Produced  Gravity of Oil  \\\n",
       "2683201                 4.0                28.0            21.6   \n",
       "2683202                 9.0                31.0            21.9   \n",
       "2683203                13.0                31.0            21.7   \n",
       "2683204                 4.0                30.0            21.8   \n",
       "2683205                11.0                23.0            22.1   \n",
       "\n",
       "         Method of Operation  Water Disposition PWT Status Well Type  Status  \\\n",
       "2683201                  6.0                5.0          A        OG     0.0   \n",
       "2683202                  6.0                5.0          A        OG     0.0   \n",
       "2683203                  6.0                5.0          A        OG     0.0   \n",
       "2683204                  6.0                5.0          A        OG     0.0   \n",
       "2683205                  6.0                5.0          A        OG     0.0   \n",
       "\n",
       "         Pool Code Reported Date  Year Month  Casing Pressure  \\\n",
       "2683201        0.0    2015-02-01  2015   Feb             36.0   \n",
       "2683202        0.0    2015-01-01  2015   Jan             26.0   \n",
       "2683203        0.0    2014-12-01  2014   Dec             33.0   \n",
       "2683204        0.0    2014-11-01  2014   Nov             28.0   \n",
       "2683205        0.0    2014-10-01  2014   Oct              0.0   \n",
       "\n",
       "         Tubing Pressure     BTU  \n",
       "2683201             95.0  1021.0  \n",
       "2683202             90.0  1090.0  \n",
       "2683203             95.0  1024.0  \n",
       "2683204             85.0  1123.0  \n",
       "2683205              0.0  1168.0  "
      ]
     },
     "execution_count": 7,
     "metadata": {},
     "output_type": "execute_result"
    }
   ],
   "source": [
    "production.tail()"
   ]
  },
  {
   "cell_type": "code",
   "execution_count": 8,
   "metadata": {
    "vscode": {
     "languageId": "python"
    }
   },
   "outputs": [],
   "source": [
    "inject_col = [\"Water or Steam Injected (bbl)\",\"Gas or Air Injected (Mcf)\"]\n",
    "product_col = [\"Oil Produced (bbl)\",\"Water Produced (bbl)\",\"Gas Produced (Mcf)\"]"
   ]
  },
  {
   "attachments": {},
   "cell_type": "markdown",
   "metadata": {},
   "source": [
    "### filter wells in LA"
   ]
  },
  {
   "cell_type": "code",
   "execution_count": 9,
   "metadata": {
    "vscode": {
     "languageId": "python"
    }
   },
   "outputs": [],
   "source": [
    "LA = [\"Los Angeles\",\"Los Angeles Offshore\"]"
   ]
  },
  {
   "cell_type": "code",
   "execution_count": 10,
   "metadata": {
    "vscode": {
     "languageId": "python"
    }
   },
   "outputs": [],
   "source": [
    "API_ind = [each for each in well_info.index if well_info.loc[each,\"County Name\"] in LA]"
   ]
  },
  {
   "cell_type": "code",
   "execution_count": 11,
   "metadata": {
    "vscode": {
     "languageId": "python"
    }
   },
   "outputs": [],
   "source": [
    "well_info_with_yearly = well_info.copy()\n",
    "\n",
    "subinject = injection.groupby(\"API Number\")[inject_col].sum()\n",
    "subinject.index.name = \"API #\"\n",
    "    \n",
    "well_info_with_yearly = pd.concat([well_info_with_yearly,subinject],axis = 1)\n",
    "\n",
    "subproduct = production.groupby(\"API Number\")[product_col].sum()\n",
    "subproduct.index.name = \"API #\"\n",
    "    \n",
    "well_info_with_yearly = pd.concat([well_info_with_yearly,subproduct],axis = 1)"
   ]
  },
  {
   "cell_type": "code",
   "execution_count": 12,
   "metadata": {
    "vscode": {
     "languageId": "python"
    }
   },
   "outputs": [],
   "source": [
    "well_info_with_yearly.loc[API_ind].fillna(0).to_csv(os.path.join(r\"data/processed\",\"well_info_with_total.csv\"))"
   ]
  },
  {
   "attachments": {},
   "cell_type": "markdown",
   "metadata": {},
   "source": [
    "## Sum up time series for each oil field"
   ]
  },
  {
   "attachments": {},
   "cell_type": "markdown",
   "metadata": {},
   "source": [
    "### Load well relationship with oil field"
   ]
  },
  {
   "cell_type": "code",
   "execution_count": 11,
   "metadata": {
    "vscode": {
     "languageId": "python"
    }
   },
   "outputs": [
    {
     "name": "stderr",
     "output_type": "stream",
     "text": [
      "C:\\Users\\Intel\\AppData\\Local\\Temp\\ipykernel_18564\\3864202494.py:1: DtypeWarning: Columns (50) have mixed types. Specify dtype option on import or set low_memory=False.\n",
      "  well_oil = pd.read_csv(os.path.join(r\"data\\processed\",\"well_oil.csv\"),index_col = 0,parse_dates=False)\n"
     ]
    }
   ],
   "source": [
    "well_oil = pd.read_csv(os.path.join(r\"data\\processed\",\"well_oil.csv\"),index_col = 0,parse_dates=False)"
   ]
  },
  {
   "cell_type": "code",
   "execution_count": 90,
   "metadata": {
    "vscode": {
     "languageId": "python"
    }
   },
   "outputs": [
    {
     "data": {
      "text/html": [
       "<div>\n",
       "<style scoped>\n",
       "    .dataframe tbody tr th:only-of-type {\n",
       "        vertical-align: middle;\n",
       "    }\n",
       "\n",
       "    .dataframe tbody tr th {\n",
       "        vertical-align: top;\n",
       "    }\n",
       "\n",
       "    .dataframe thead th {\n",
       "        text-align: right;\n",
       "    }\n",
       "</style>\n",
       "<table border=\"1\" class=\"dataframe\">\n",
       "  <thead>\n",
       "    <tr style=\"text-align: right;\">\n",
       "      <th></th>\n",
       "      <th>FID_well_la_all_info</th>\n",
       "      <th>API__</th>\n",
       "      <th>Operator_Name</th>\n",
       "      <th>County_Name</th>\n",
       "      <th>Field_Name</th>\n",
       "      <th>Lease_Name</th>\n",
       "      <th>Well__</th>\n",
       "      <th>Area_Name</th>\n",
       "      <th>Area_Code</th>\n",
       "      <th>District__</th>\n",
       "      <th>...</th>\n",
       "      <th>PERIMETER</th>\n",
       "      <th>District</th>\n",
       "      <th>Shape_Leng</th>\n",
       "      <th>TOOLTIP</th>\n",
       "      <th>NLA_URL</th>\n",
       "      <th>LatestUpda</th>\n",
       "      <th>DataSource</th>\n",
       "      <th>centerX</th>\n",
       "      <th>centerY</th>\n",
       "      <th>OID_</th>\n",
       "    </tr>\n",
       "    <tr>\n",
       "      <th>OBJECTID</th>\n",
       "      <th></th>\n",
       "      <th></th>\n",
       "      <th></th>\n",
       "      <th></th>\n",
       "      <th></th>\n",
       "      <th></th>\n",
       "      <th></th>\n",
       "      <th></th>\n",
       "      <th></th>\n",
       "      <th></th>\n",
       "      <th></th>\n",
       "      <th></th>\n",
       "      <th></th>\n",
       "      <th></th>\n",
       "      <th></th>\n",
       "      <th></th>\n",
       "      <th></th>\n",
       "      <th></th>\n",
       "      <th></th>\n",
       "      <th></th>\n",
       "      <th></th>\n",
       "    </tr>\n",
       "  </thead>\n",
       "  <tbody>\n",
       "    <tr>\n",
       "      <th>21573</th>\n",
       "      <td>12960</td>\n",
       "      <td>3716556</td>\n",
       "      <td>Chevron U.S.A. Inc.</td>\n",
       "      <td>Los Angeles</td>\n",
       "      <td>Sherman (ABD)</td>\n",
       "      <td>Laurel</td>\n",
       "      <td>1B</td>\n",
       "      <td>Any Area</td>\n",
       "      <td>0</td>\n",
       "      <td>1</td>\n",
       "      <td>...</td>\n",
       "      <td>1.43</td>\n",
       "      <td>1</td>\n",
       "      <td>0.02272</td>\n",
       "      <td>Name: Sherman (Abd)</td>\n",
       "      <td></td>\n",
       "      <td>1/15/2014</td>\n",
       "      <td>http://www.conservation.ca.gov/dog/maps/Pages/...</td>\n",
       "      <td>-118.381217</td>\n",
       "      <td>34.087062</td>\n",
       "      <td>26</td>\n",
       "    </tr>\n",
       "    <tr>\n",
       "      <th>21574</th>\n",
       "      <td>13151</td>\n",
       "      <td>3716760</td>\n",
       "      <td>Chevron U.S.A. Inc.</td>\n",
       "      <td>Los Angeles</td>\n",
       "      <td>Sherman (ABD)</td>\n",
       "      <td>Arden P. E.</td>\n",
       "      <td>2</td>\n",
       "      <td>Any Area</td>\n",
       "      <td>0</td>\n",
       "      <td>1</td>\n",
       "      <td>...</td>\n",
       "      <td>1.43</td>\n",
       "      <td>1</td>\n",
       "      <td>0.02272</td>\n",
       "      <td>Name: Sherman (Abd)</td>\n",
       "      <td></td>\n",
       "      <td>1/15/2014</td>\n",
       "      <td>http://www.conservation.ca.gov/dog/maps/Pages/...</td>\n",
       "      <td>-118.381217</td>\n",
       "      <td>34.087062</td>\n",
       "      <td>26</td>\n",
       "    </tr>\n",
       "    <tr>\n",
       "      <th>21575</th>\n",
       "      <td>13150</td>\n",
       "      <td>3716759</td>\n",
       "      <td>Chevron U.S.A. Inc.</td>\n",
       "      <td>Los Angeles</td>\n",
       "      <td>Sherman (ABD)</td>\n",
       "      <td>Arden P. E.</td>\n",
       "      <td>1</td>\n",
       "      <td>Any Area</td>\n",
       "      <td>0</td>\n",
       "      <td>1</td>\n",
       "      <td>...</td>\n",
       "      <td>1.43</td>\n",
       "      <td>1</td>\n",
       "      <td>0.02272</td>\n",
       "      <td>Name: Sherman (Abd)</td>\n",
       "      <td></td>\n",
       "      <td>1/15/2014</td>\n",
       "      <td>http://www.conservation.ca.gov/dog/maps/Pages/...</td>\n",
       "      <td>-118.381217</td>\n",
       "      <td>34.087062</td>\n",
       "      <td>26</td>\n",
       "    </tr>\n",
       "    <tr>\n",
       "      <th>21576</th>\n",
       "      <td>13152</td>\n",
       "      <td>3716761</td>\n",
       "      <td>Chevron U.S.A. Inc.</td>\n",
       "      <td>Los Angeles</td>\n",
       "      <td>Sherman (ABD)</td>\n",
       "      <td>P. E. Corehole</td>\n",
       "      <td>1</td>\n",
       "      <td>Any Area</td>\n",
       "      <td>0</td>\n",
       "      <td>1</td>\n",
       "      <td>...</td>\n",
       "      <td>1.43</td>\n",
       "      <td>1</td>\n",
       "      <td>0.02272</td>\n",
       "      <td>Name: Sherman (Abd)</td>\n",
       "      <td></td>\n",
       "      <td>1/15/2014</td>\n",
       "      <td>http://www.conservation.ca.gov/dog/maps/Pages/...</td>\n",
       "      <td>-118.381217</td>\n",
       "      <td>34.087062</td>\n",
       "      <td>26</td>\n",
       "    </tr>\n",
       "    <tr>\n",
       "      <th>21577</th>\n",
       "      <td>17376</td>\n",
       "      <td>3723446</td>\n",
       "      <td>Mobil Oil Corporation</td>\n",
       "      <td>Los Angeles</td>\n",
       "      <td>Santa Fe Springs</td>\n",
       "      <td>NaN</td>\n",
       "      <td>647-B</td>\n",
       "      <td>Any Area</td>\n",
       "      <td>0</td>\n",
       "      <td>1</td>\n",
       "      <td>...</td>\n",
       "      <td>9.81</td>\n",
       "      <td>2</td>\n",
       "      <td>0.15845</td>\n",
       "      <td>Name: Placerita</td>\n",
       "      <td></td>\n",
       "      <td>1/15/2014</td>\n",
       "      <td>http://www.conservation.ca.gov/dog/maps/Pages/...</td>\n",
       "      <td>-118.491026</td>\n",
       "      <td>34.386849</td>\n",
       "      <td>47</td>\n",
       "    </tr>\n",
       "  </tbody>\n",
       "</table>\n",
       "<p>5 rows × 58 columns</p>\n",
       "</div>"
      ],
      "text/plain": [
       "          FID_well_la_all_info    API__          Operator_Name  County_Name  \\\n",
       "OBJECTID                                                                      \n",
       "21573                    12960  3716556    Chevron U.S.A. Inc.  Los Angeles   \n",
       "21574                    13151  3716760    Chevron U.S.A. Inc.  Los Angeles   \n",
       "21575                    13150  3716759    Chevron U.S.A. Inc.  Los Angeles   \n",
       "21576                    13152  3716761    Chevron U.S.A. Inc.  Los Angeles   \n",
       "21577                    17376  3723446  Mobil Oil Corporation  Los Angeles   \n",
       "\n",
       "                Field_Name      Lease_Name Well__ Area_Name  Area_Code  \\\n",
       "OBJECTID                                                                 \n",
       "21573        Sherman (ABD)          Laurel     1B  Any Area          0   \n",
       "21574        Sherman (ABD)     Arden P. E.      2  Any Area          0   \n",
       "21575        Sherman (ABD)     Arden P. E.      1  Any Area          0   \n",
       "21576        Sherman (ABD)  P. E. Corehole      1  Any Area          0   \n",
       "21577     Santa Fe Springs             NaN  647-B  Any Area          0   \n",
       "\n",
       "          District__  ...  PERIMETER District Shape_Leng              TOOLTIP  \\\n",
       "OBJECTID              ...                                                       \n",
       "21573              1  ...       1.43        1    0.02272  Name: Sherman (Abd)   \n",
       "21574              1  ...       1.43        1    0.02272  Name: Sherman (Abd)   \n",
       "21575              1  ...       1.43        1    0.02272  Name: Sherman (Abd)   \n",
       "21576              1  ...       1.43        1    0.02272  Name: Sherman (Abd)   \n",
       "21577              1  ...       9.81        2    0.15845      Name: Placerita   \n",
       "\n",
       "          NLA_URL LatestUpda  \\\n",
       "OBJECTID                       \n",
       "21573              1/15/2014   \n",
       "21574              1/15/2014   \n",
       "21575              1/15/2014   \n",
       "21576              1/15/2014   \n",
       "21577              1/15/2014   \n",
       "\n",
       "                                                 DataSource     centerX  \\\n",
       "OBJECTID                                                                  \n",
       "21573     http://www.conservation.ca.gov/dog/maps/Pages/... -118.381217   \n",
       "21574     http://www.conservation.ca.gov/dog/maps/Pages/... -118.381217   \n",
       "21575     http://www.conservation.ca.gov/dog/maps/Pages/... -118.381217   \n",
       "21576     http://www.conservation.ca.gov/dog/maps/Pages/... -118.381217   \n",
       "21577     http://www.conservation.ca.gov/dog/maps/Pages/... -118.491026   \n",
       "\n",
       "            centerY OID_  \n",
       "OBJECTID                  \n",
       "21573     34.087062   26  \n",
       "21574     34.087062   26  \n",
       "21575     34.087062   26  \n",
       "21576     34.087062   26  \n",
       "21577     34.386849   47  \n",
       "\n",
       "[5 rows x 58 columns]"
      ]
     },
     "execution_count": 90,
     "metadata": {},
     "output_type": "execute_result"
    }
   ],
   "source": [
    "well_oil.tail()"
   ]
  },
  {
   "cell_type": "code",
   "execution_count": 14,
   "metadata": {
    "vscode": {
     "languageId": "python"
    }
   },
   "outputs": [
    {
     "data": {
      "text/plain": [
       "Index(['FID_well_la_all_info', 'API__', 'Operator_Name', 'County_Name',\n",
       "       'Field_Name', 'Lease_Name', 'Well__', 'Area_Name', 'Area_Code',\n",
       "       'District__', 'Section_', 'Township', 'Range', 'Township_D', 'Range_D',\n",
       "       'Base_Meridian', 'Latitude', 'Longitude', 'API_1', 'Operator_Name_1',\n",
       "       'County_Name_1', 'Field_Name_1', 'Lease_Name_1', 'Well_1',\n",
       "       'Area_Name_1', 'Area_Code_1', 'District_1', 'Section', 'Township_1',\n",
       "       'Range_1', 'Township_D_1', 'Range_D_1', 'Base_Meridian_1', 'Latitude_1',\n",
       "       'Longitude_1', 'Water_or_Steam_Injected__bbl_',\n",
       "       'Gas_or_Air_Injected__Mcf_', 'Oil_Produced__bbl_',\n",
       "       'Water_Produced__bbl_', 'Gas_Produced__Mcf_', 'well_id',\n",
       "       'FID_Oil___Gas_Fields__Inside_LA_County_', 'OBJECTID_1', 'OBJECTID_12',\n",
       "       'NAME', 'FIELD_CODE', 'AREA_SQ_MI', 'AREA_ACRE', 'PERIMETER',\n",
       "       'District', 'Shape_Leng', 'TOOLTIP', 'NLA_URL', 'LatestUpda',\n",
       "       'DataSource', 'centerX', 'centerY', 'OID_'],\n",
       "      dtype='object')"
      ]
     },
     "execution_count": 14,
     "metadata": {},
     "output_type": "execute_result"
    }
   ],
   "source": [
    "well_oil.columns"
   ]
  },
  {
   "cell_type": "code",
   "execution_count": 15,
   "metadata": {
    "vscode": {
     "languageId": "python"
    }
   },
   "outputs": [
    {
     "data": {
      "text/plain": [
       "21577"
      ]
     },
     "execution_count": 15,
     "metadata": {},
     "output_type": "execute_result"
    }
   ],
   "source": [
    "len(well_oil)"
   ]
  },
  {
   "cell_type": "code",
   "execution_count": 12,
   "metadata": {
    "vscode": {
     "languageId": "python"
    }
   },
   "outputs": [],
   "source": [
    "well_oil.reset_index()\n",
    "well_oil.index = well_oil[\"API__\"]"
   ]
  },
  {
   "cell_type": "code",
   "execution_count": 13,
   "metadata": {
    "vscode": {
     "languageId": "python"
    }
   },
   "outputs": [],
   "source": [
    "well_info[\"OID\"] = well_oil[\"OID_\"]"
   ]
  },
  {
   "cell_type": "code",
   "execution_count": 14,
   "metadata": {
    "vscode": {
     "languageId": "python"
    }
   },
   "outputs": [],
   "source": [
    "well_info_oid = well_info.copy()"
   ]
  },
  {
   "cell_type": "code",
   "execution_count": 15,
   "metadata": {
    "vscode": {
     "languageId": "python"
    }
   },
   "outputs": [],
   "source": [
    "ind = well_oil.index.tolist()"
   ]
  },
  {
   "cell_type": "code",
   "execution_count": 50,
   "metadata": {
    "vscode": {
     "languageId": "python"
    }
   },
   "outputs": [
    {
     "data": {
      "text/plain": [
       "21577"
      ]
     },
     "execution_count": 50,
     "metadata": {},
     "output_type": "execute_result"
    }
   ],
   "source": [
    "len(ind)"
   ]
  },
  {
   "cell_type": "code",
   "execution_count": 16,
   "metadata": {
    "vscode": {
     "languageId": "python"
    }
   },
   "outputs": [],
   "source": [
    "ind = len(list(set(ind) & set(API_ind)))\n",
    "well_info_oid = well_info_oid.loc[list(set(ind) & set(API_ind))]"
   ]
  },
  {
   "cell_type": "code",
   "execution_count": 19,
   "metadata": {
    "vscode": {
     "languageId": "python"
    }
   },
   "outputs": [],
   "source": [
    "OFID = np.unique(well_oil[\"OID_\"])"
   ]
  },
  {
   "cell_type": "code",
   "execution_count": 23,
   "metadata": {
    "vscode": {
     "languageId": "python"
    }
   },
   "outputs": [
    {
     "data": {
      "text/plain": [
       "48"
      ]
     },
     "execution_count": 23,
     "metadata": {},
     "output_type": "execute_result"
    }
   ],
   "source": [
    "len(OFID)"
   ]
  },
  {
   "attachments": {},
   "cell_type": "markdown",
   "metadata": {},
   "source": [
    "### generate time series"
   ]
  },
  {
   "cell_type": "code",
   "execution_count": 17,
   "metadata": {
    "vscode": {
     "languageId": "python"
    }
   },
   "outputs": [],
   "source": [
    "def generate_time_data(ind):\n",
    "    ts = pd.DataFrame()\n",
    "    water = pd.pivot_table(injection, index = \"Reported Date\", columns = \"API Number\",\n",
    "                       values = inject_col[0], aggfunc='mean').fillna(0)\n",
    "    inj_ind = list(set(ind) & set(water.columns))\n",
    "    ts[inject_col[0]] = water[inj_ind].sum(axis = 1)\n",
    "    gas = pd.pivot_table(injection, index = \"Reported Date\", columns = \"API Number\",\n",
    "                        values = inject_col[1], aggfunc='mean').fillna(0)\n",
    "    inj_ind = list(set(ind) & set(gas.columns))\n",
    "    ts[inject_col[1]] = gas[inj_ind].sum(axis = 1)\n",
    "    for each in product_col:\n",
    "        sli = pd.pivot_table(production, index = \"Reported Date\", columns = \"API Number\",\n",
    "                                values = each, aggfunc='mean').fillna(0)\n",
    "        ind = list(set(ind) & set(sli.columns))\n",
    "        ts[each] = sli[ind].sum(axis = 1)\n",
    "    return ts"
   ]
  },
  {
   "cell_type": "code",
   "execution_count": 22,
   "metadata": {
    "vscode": {
     "languageId": "python"
    }
   },
   "outputs": [],
   "source": [
    "totaldf = pd.DataFrame()\n",
    "for eachid in OFID:\n",
    "    ind = well_info_oid[well_info_oid[\"OID\"]==eachid].index.tolist()\n",
    "    ts = generate_time_data(ind)\n",
    "    sli = ts.sum(axis=0)\n",
    "    sli.name = eachid\n",
    "    totaldf = pd.concat([totaldf,sli],axis = 1)\n",
    "    #ts.to_csv(os.path.join(r\"data\\forfeature\\wellts\",f\"{eachid}.csv\"))\n",
    "    #break"
   ]
  },
  {
   "cell_type": "code",
   "execution_count": 58,
   "metadata": {
    "vscode": {
     "languageId": "python"
    }
   },
   "outputs": [
    {
     "data": {
      "text/plain": [
       "<AxesSubplot:xlabel='Reported Date'>"
      ]
     },
     "execution_count": 58,
     "metadata": {},
     "output_type": "execute_result"
    },
    {
     "data": {
      "image/png": "[encoded data removed]",
      "text/plain": [
       "<Figure size 1080x360 with 1 Axes>"
      ]
     },
     "metadata": {
      "needs_background": "light"
     },
     "output_type": "display_data"
    }
   ],
   "source": [
    "ts.plot(figsize=(15,5))"
   ]
  },
  {
   "cell_type": "code",
   "execution_count": 25,
   "metadata": {
    "vscode": {
     "languageId": "python"
    }
   },
   "outputs": [],
   "source": [
    "totaldf = totaldf.T\n",
    "totaldf.index.name = \"OID\"\n",
    "totaldf.to_csv(os.path.join(r\"data\\forfeature\",f\"wellts_total.csv\"))"
   ]
  },
  {
   "cell_type": "code",
   "execution_count": 108,
   "metadata": {
    "vscode": {
     "languageId": "python"
    }
   },
   "outputs": [],
   "source": [
    "well_col = ['OBJECTID_1',\n",
    "       'OBJECTID_12', 'NAME', 'FIELD_CODE', 'AREA_SQ_MI', 'AREA_ACRE',\n",
    "       'PERIMETER', 'District', 'Shape_Leng', 'TOOLTIP', 'NLA_URL',\n",
    "       'LatestUpda', 'DataSource', 'centerX', 'centerY', 'OID_']\n",
    "of_info = well_oil[well_col].reset_index().drop(\"API__\",axis=1)\n",
    "of_info.index = of_info[\"OID_\"]"
   ]
  },
  {
   "cell_type": "code",
   "execution_count": 111,
   "metadata": {
    "vscode": {
     "languageId": "python"
    }
   },
   "outputs": [],
   "source": [
    "of_info = of_info.drop_duplicates()"
   ]
  },
  {
   "cell_type": "code",
   "execution_count": 112,
   "metadata": {
    "vscode": {
     "languageId": "python"
    }
   },
   "outputs": [
    {
     "data": {
      "text/plain": [
       "Index(['OBJECTID_1', 'OBJECTID_12', 'NAME', 'FIELD_CODE', 'AREA_SQ_MI',\n",
       "       'AREA_ACRE', 'PERIMETER', 'District', 'Shape_Leng', 'TOOLTIP',\n",
       "       'NLA_URL', 'LatestUpda', 'DataSource', 'centerX', 'centerY', 'OID_'],\n",
       "      dtype='object')"
      ]
     },
     "execution_count": 112,
     "metadata": {},
     "output_type": "execute_result"
    }
   ],
   "source": [
    "of_info.columns"
   ]
  },
  {
   "cell_type": "code",
   "execution_count": 113,
   "metadata": {
    "vscode": {
     "languageId": "python"
    }
   },
   "outputs": [],
   "source": [
    "of_info.to_csv(os.path.join(r\"data\\forfeature\",\"oil_info.csv\"))\n",
    "    #break"
   ]
  }
 ],
 "metadata": {
  "kernelspec": {
   "display_name": "GIS",
   "language": "python",
   "name": "gis"
  },
  "orig_nbformat": 4,
  "vscode": {
   "interpreter": {
    "hash": "fc63bdefa82b0e52e69d7b55bf4f4ec43d4fb7e45aa97b7564c8adf5462c5604"
   }
  }
 },
 "nbformat": 4,
 "nbformat_minor": 2
}
