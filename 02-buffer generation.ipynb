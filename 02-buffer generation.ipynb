{
 "cells": [
  {
   "attachments": {},
   "cell_type": "markdown",
   "metadata": {},
   "source": [
    "# 02 Buffer generation\n",
    "author: SheltonXiao (Tong Xiao)    \n",
    "2023/3/13"
   ]
  },
  {
   "cell_type": "code",
   "execution_count": 1,
   "metadata": {
    "vscode": {
     "languageId": "python"
    }
   },
   "outputs": [],
   "source": [
    "import os\n",
    "import numpy as np\n",
    "import pandas as pd\n",
    "import seaborn as sns\n",
    "from tqdm import trange\n",
    "from IPython.display import clear_output\n",
    "import matplotlib.pyplot as plt"
   ]
  },
  {
   "attachments": {},
   "cell_type": "markdown",
   "metadata": {},
   "source": [
    "## Load data"
   ]
  },
  {
   "cell_type": "code",
   "execution_count": 2,
   "metadata": {
    "vscode": {
     "languageId": "python"
    }
   },
   "outputs": [],
   "source": [
    "totaldf = pd.read_csv(os.path.join(r\"data\\forfeature\",f\"wellts_total.csv\"),index_col=0)"
   ]
  },
  {
   "cell_type": "code",
   "execution_count": 3,
   "metadata": {
    "vscode": {
     "languageId": "python"
    }
   },
   "outputs": [
    {
     "data": {
      "text/html": [
       "<div>\n",
       "<style scoped>\n",
       "    .dataframe tbody tr th:only-of-type {\n",
       "        vertical-align: middle;\n",
       "    }\n",
       "\n",
       "    .dataframe tbody tr th {\n",
       "        vertical-align: top;\n",
       "    }\n",
       "\n",
       "    .dataframe thead th {\n",
       "        text-align: right;\n",
       "    }\n",
       "</style>\n",
       "<table border=\"1\" class=\"dataframe\">\n",
       "  <thead>\n",
       "    <tr style=\"text-align: right;\">\n",
       "      <th></th>\n",
       "      <th>Water or Steam Injected (bbl)</th>\n",
       "      <th>Gas or Air Injected (Mcf)</th>\n",
       "      <th>Oil Produced (bbl)</th>\n",
       "      <th>Water Produced (bbl)</th>\n",
       "      <th>Gas Produced (Mcf)</th>\n",
       "    </tr>\n",
       "    <tr>\n",
       "      <th>OID</th>\n",
       "      <th></th>\n",
       "      <th></th>\n",
       "      <th></th>\n",
       "      <th></th>\n",
       "      <th></th>\n",
       "    </tr>\n",
       "  </thead>\n",
       "  <tbody>\n",
       "    <tr>\n",
       "      <th>44</th>\n",
       "      <td>0.000000e+00</td>\n",
       "      <td>0.0</td>\n",
       "      <td>0.000000e+00</td>\n",
       "      <td>0.000000e+00</td>\n",
       "      <td>0.000000e+00</td>\n",
       "    </tr>\n",
       "    <tr>\n",
       "      <th>45</th>\n",
       "      <td>0.000000e+00</td>\n",
       "      <td>0.0</td>\n",
       "      <td>1.057610e+05</td>\n",
       "      <td>6.730200e+04</td>\n",
       "      <td>1.810270e+05</td>\n",
       "    </tr>\n",
       "    <tr>\n",
       "      <th>47</th>\n",
       "      <td>0.000000e+00</td>\n",
       "      <td>0.0</td>\n",
       "      <td>0.000000e+00</td>\n",
       "      <td>0.000000e+00</td>\n",
       "      <td>0.000000e+00</td>\n",
       "    </tr>\n",
       "    <tr>\n",
       "      <th>71</th>\n",
       "      <td>1.843367e+10</td>\n",
       "      <td>425460.0</td>\n",
       "      <td>9.427292e+08</td>\n",
       "      <td>1.641493e+10</td>\n",
       "      <td>2.010439e+08</td>\n",
       "    </tr>\n",
       "    <tr>\n",
       "      <th>72</th>\n",
       "      <td>1.243168e+09</td>\n",
       "      <td>3.0</td>\n",
       "      <td>8.190149e+07</td>\n",
       "      <td>1.648340e+09</td>\n",
       "      <td>1.947350e+07</td>\n",
       "    </tr>\n",
       "  </tbody>\n",
       "</table>\n",
       "</div>"
      ],
      "text/plain": [
       "     Water or Steam Injected (bbl)  Gas or Air Injected (Mcf)  \\\n",
       "OID                                                             \n",
       "44                    0.000000e+00                        0.0   \n",
       "45                    0.000000e+00                        0.0   \n",
       "47                    0.000000e+00                        0.0   \n",
       "71                    1.843367e+10                   425460.0   \n",
       "72                    1.243168e+09                        3.0   \n",
       "\n",
       "     Oil Produced (bbl)  Water Produced (bbl)  Gas Produced (Mcf)  \n",
       "OID                                                                \n",
       "44         0.000000e+00          0.000000e+00        0.000000e+00  \n",
       "45         1.057610e+05          6.730200e+04        1.810270e+05  \n",
       "47         0.000000e+00          0.000000e+00        0.000000e+00  \n",
       "71         9.427292e+08          1.641493e+10        2.010439e+08  \n",
       "72         8.190149e+07          1.648340e+09        1.947350e+07  "
      ]
     },
     "execution_count": 3,
     "metadata": {},
     "output_type": "execute_result"
    }
   ],
   "source": [
    "totaldf.tail()"
   ]
  },
  {
   "cell_type": "code",
   "execution_count": 4,
   "metadata": {
    "vscode": {
     "languageId": "python"
    }
   },
   "outputs": [
    {
     "data": {
      "text/plain": [
       "array([[<AxesSubplot:title={'center':'Water or Steam Injected (bbl)'}>,\n",
       "        <AxesSubplot:title={'center':'Gas or Air Injected (Mcf)'}>],\n",
       "       [<AxesSubplot:title={'center':'Oil Produced (bbl)'}>,\n",
       "        <AxesSubplot:title={'center':'Water Produced (bbl)'}>],\n",
       "       [<AxesSubplot:title={'center':'Gas Produced (Mcf)'}>,\n",
       "        <AxesSubplot:>]], dtype=object)"
      ]
     },
     "execution_count": 4,
     "metadata": {},
     "output_type": "execute_result"
    },
    {
     "data": {
      "image/png": "[encoded data removed]",
      "text/plain": [
       "<Figure size 864x1152 with 6 Axes>"
      ]
     },
     "metadata": {
      "needs_background": "light"
     },
     "output_type": "display_data"
    }
   ],
   "source": [
    "totaldf.hist(figsize=(12,16),bins = 30)"
   ]
  },
  {
   "cell_type": "code",
   "execution_count": 5,
   "metadata": {
    "vscode": {
     "languageId": "python"
    }
   },
   "outputs": [],
   "source": [
    "totaldf[\"Water\"] = totaldf[\"Water Produced (bbl)\"] - totaldf[\"Water or Steam Injected (bbl)\"]"
   ]
  },
  {
   "cell_type": "code",
   "execution_count": 6,
   "metadata": {
    "vscode": {
     "languageId": "python"
    }
   },
   "outputs": [
    {
     "data": {
      "text/plain": [
       "<AxesSubplot:xlabel='OID'>"
      ]
     },
     "execution_count": 6,
     "metadata": {},
     "output_type": "execute_result"
    },
    {
     "data": {
      "image/png": "[encoded data removed]",
      "text/plain": [
       "<Figure size 432x288 with 1 Axes>"
      ]
     },
     "metadata": {
      "needs_background": "light"
     },
     "output_type": "display_data"
    }
   ],
   "source": [
    "totaldf[\"Water\"].plot(marker = \".\",linewidth = 0)"
   ]
  },
  {
   "cell_type": "code",
   "execution_count": 7,
   "metadata": {
    "vscode": {
     "languageId": "python"
    }
   },
   "outputs": [],
   "source": [
    "totaldf[\"Gas\"] = totaldf[\"Gas Produced (Mcf)\"] - totaldf[\"Gas or Air Injected (Mcf)\"]"
   ]
  },
  {
   "cell_type": "code",
   "execution_count": 8,
   "metadata": {
    "vscode": {
     "languageId": "python"
    }
   },
   "outputs": [
    {
     "data": {
      "text/plain": [
       "<AxesSubplot:xlabel='OID'>"
      ]
     },
     "execution_count": 8,
     "metadata": {},
     "output_type": "execute_result"
    },
    {
     "data": {
      "image/png": "[encoded data removed]",
      "text/plain": [
       "<Figure size 432x288 with 1 Axes>"
      ]
     },
     "metadata": {
      "needs_background": "light"
     },
     "output_type": "display_data"
    }
   ],
   "source": [
    "totaldf[\"Gas\"].plot(marker = \".\",linewidth = 0)"
   ]
  },
  {
   "attachments": {},
   "cell_type": "markdown",
   "metadata": {},
   "source": [
    "## Buffer definition"
   ]
  },
  {
   "cell_type": "markdown",
   "metadata": {},
   "source": [
    "only focus on production, ignore injection"
   ]
  },
  {
   "attachments": {},
   "cell_type": "markdown",
   "metadata": {},
   "source": [
    "oil 1 bbl = 0.159 m3    \n",
    "    1 bbl = 0.14 t    \n",
    "water 1 bbl = 0.159 m3    \n",
    "gas 1 mcf = 28.32 m3    "
   ]
  },
  {
   "attachments": {},
   "cell_type": "markdown",
   "metadata": {},
   "source": [
    "use heat to define the well size"
   ]
  },
  {
   "attachments": {},
   "cell_type": "markdown",
   "metadata": {},
   "source": [
    "oil : 1 bbl -> 5.8 * 1e6 Btu     \n",
    "gas : 1 m3 -> 3.6 * 1e4 Btu   \n",
    "      1 mcf -> 1.0 * 1e6 Btu     \n",
    "\n",
    "1 bbl oil -> 5.8 mcf gas"
   ]
  },
  {
   "cell_type": "code",
   "execution_count": 9,
   "metadata": {
    "vscode": {
     "languageId": "python"
    }
   },
   "outputs": [],
   "source": [
    "totaldf[\"Heat Produced(Mcf)\"] = 5.8 * totaldf[\"Gas Produced (Mcf)\"] + totaldf[\"Oil Produced (bbl)\"]"
   ]
  },
  {
   "cell_type": "code",
   "execution_count": 10,
   "metadata": {
    "vscode": {
     "languageId": "python"
    }
   },
   "outputs": [
    {
     "data": {
      "text/plain": [
       "<AxesSubplot:>"
      ]
     },
     "execution_count": 10,
     "metadata": {},
     "output_type": "execute_result"
    },
    {
     "data": {
      "image/png": "[encoded data removed]",
      "text/plain": [
       "<Figure size 432x288 with 1 Axes>"
      ]
     },
     "metadata": {
      "needs_background": "light"
     },
     "output_type": "display_data"
    }
   ],
   "source": [
    "totaldf[\"Heat Produced(Mcf)\"].hist(bins = 50)\n",
    "#totaldf[\"Heat Produced(Mcf)\"].plot(marker = \".\",linewidth = 0)"
   ]
  },
  {
   "attachments": {},
   "cell_type": "markdown",
   "metadata": {},
   "source": [
    "use volume to define well size"
   ]
  },
  {
   "cell_type": "code",
   "execution_count": 11,
   "metadata": {
    "vscode": {
     "languageId": "python"
    }
   },
   "outputs": [],
   "source": [
    "totaldf[\"Volume Produced(m3)\"] = 28.32 * totaldf[\"Gas Produced (Mcf)\"] + 0.159 * totaldf[\"Water Produced (bbl)\"] + 0.159 * totaldf[\"Oil Produced (bbl)\"]"
   ]
  },
  {
   "cell_type": "code",
   "execution_count": 12,
   "metadata": {
    "vscode": {
     "languageId": "python"
    }
   },
   "outputs": [
    {
     "data": {
      "text/plain": [
       "<AxesSubplot:xlabel='OID'>"
      ]
     },
     "execution_count": 12,
     "metadata": {},
     "output_type": "execute_result"
    },
    {
     "data": {
      "image/png": "[encoded data removed]",
      "text/plain": [
       "<Figure size 432x288 with 1 Axes>"
      ]
     },
     "metadata": {
      "needs_background": "light"
     },
     "output_type": "display_data"
    }
   ],
   "source": [
    "totaldf[\"Volume Produced(m3)\"].plot(marker = \".\",linewidth = 0)"
   ]
  },
  {
   "cell_type": "code",
   "execution_count": 13,
   "metadata": {
    "vscode": {
     "languageId": "python"
    }
   },
   "outputs": [
    {
     "data": {
      "text/plain": [
       "<AxesSubplot:>"
      ]
     },
     "execution_count": 13,
     "metadata": {},
     "output_type": "execute_result"
    },
    {
     "data": {
      "image/png": "[encoded data removed]",
      "text/plain": [
       "<Figure size 432x288 with 1 Axes>"
      ]
     },
     "metadata": {
      "needs_background": "light"
     },
     "output_type": "display_data"
    }
   ],
   "source": [
    "totaldf[\"Volume Produced(m3)\"].hist(bins = 50)"
   ]
  },
  {
   "cell_type": "code",
   "execution_count": 14,
   "metadata": {
    "vscode": {
     "languageId": "python"
    }
   },
   "outputs": [
    {
     "data": {
      "text/plain": [
       "<seaborn.axisgrid.PairGrid at 0x27edf7799d0>"
      ]
     },
     "execution_count": 14,
     "metadata": {},
     "output_type": "execute_result"
    },
    {
     "data": {
      "image/png": "[encoded data removed]",
      "text/plain": [
       "<Figure size 720x720 with 20 Axes>"
      ]
     },
     "metadata": {
      "needs_background": "light"
     },
     "output_type": "display_data"
    }
   ],
   "source": [
    "sns.pairplot(totaldf[[\"Volume Produced(m3)\",\"Heat Produced(Mcf)\",\"Gas\",\"Water\"]])"
   ]
  },
  {
   "attachments": {},
   "cell_type": "markdown",
   "metadata": {},
   "source": [
    "volume production and heat production seems high correlative     \n",
    "water balance have no obvious relationship with the production"
   ]
  },
  {
   "attachments": {},
   "cell_type": "markdown",
   "metadata": {},
   "source": [
    "Use volume to define the size"
   ]
  },
  {
   "cell_type": "code",
   "execution_count": 15,
   "metadata": {
    "vscode": {
     "languageId": "python"
    }
   },
   "outputs": [
    {
     "data": {
      "text/plain": [
       "<AxesSubplot:>"
      ]
     },
     "execution_count": 15,
     "metadata": {},
     "output_type": "execute_result"
    },
    {
     "data": {
      "image/png": "[encoded data removed]",
      "text/plain": [
       "<Figure size 1080x216 with 1 Axes>"
      ]
     },
     "metadata": {
      "needs_background": "light"
     },
     "output_type": "display_data"
    }
   ],
   "source": [
    "totaldf[\"Volume Produced(m3)\"].loc[totaldf[\"Volume Produced(m3)\"]!=0].hist(bins = 500,figsize=(15,3))"
   ]
  },
  {
   "cell_type": "code",
   "execution_count": 16,
   "metadata": {
    "vscode": {
     "languageId": "python"
    }
   },
   "outputs": [
    {
     "data": {
      "text/plain": [
       "<AxesSubplot:>"
      ]
     },
     "execution_count": 16,
     "metadata": {},
     "output_type": "execute_result"
    },
    {
     "data": {
      "image/png": "[encoded data removed]",
      "text/plain": [
       "<Figure size 432x288 with 1 Axes>"
      ]
     },
     "metadata": {
      "needs_background": "light"
     },
     "output_type": "display_data"
    }
   ],
   "source": [
    "np.log10(totaldf[\"Volume Produced(m3)\"].loc[totaldf[\"Volume Produced(m3)\"]!=0]).hist(bins = 50)"
   ]
  },
  {
   "attachments": {},
   "cell_type": "markdown",
   "metadata": {},
   "source": [
    "### Descrete buffer"
   ]
  },
  {
   "cell_type": "code",
   "execution_count": 20,
   "metadata": {
    "vscode": {
     "languageId": "python"
    }
   },
   "outputs": [],
   "source": [
    "def visulize_buffer(df, vcol = \"Volume Produced(m3)\",descrete = True, \n",
    "                    dividelis = [0,5e7,5e8,1e9], bufferlis = [5,10,15,20],\n",
    "                    f = f, k = 3, b = 0):\n",
    "    xmin = min(0,df[vcol].min())\n",
    "    xmax = df[vcol].max() + 100\n",
    "    x = np.linspace(xmin,xmax,10000)\n",
    "    y = np.zeros(10000)\n",
    "    if descrete:\n",
    "        for i in range(len(dividelis)):\n",
    "            left = dividelis[i]\n",
    "            try:\n",
    "                right = dividelis[i+1]\n",
    "            except:\n",
    "                right = np.inf\n",
    "            y[(x >= left) & (x < right)] = bufferlis[i]*1000\n",
    "    else:\n",
    "        y = f(x,k,b)\n",
    "\n",
    "    plt.figure(figsize = (15,5))\n",
    "    plt.plot(x,y)\n",
    "    plt.scatter(df[vcol],df[\"BUFF_DIST\"])\n",
    "    plt.ylim(-2*1000,27*1000)\n",
    "    plt.grid()\n"
   ]
  },
  {
   "cell_type": "code",
   "execution_count": 36,
   "metadata": {
    "vscode": {
     "languageId": "python"
    }
   },
   "outputs": [],
   "source": [
    "def descrete_buffer(df, vcol = \"Volume Produced(m3)\",dividelis = [0,5e7,5e8,1e9], bufferlis = [5,10,15,20]):\n",
    "    assert(len(dividelis)==len(bufferlis))\n",
    "    for i in range(len(dividelis)):\n",
    "        left = dividelis[i]\n",
    "        try:\n",
    "            right = dividelis[i+1]\n",
    "        except:\n",
    "            right = np.inf\n",
    "        df.loc[(df[vcol] >= left) & (df[vcol] < right),\"BUFF_DIST\"] = bufferlis[i]*1000\n",
    "    return df\n"
   ]
  },
  {
   "cell_type": "code",
   "execution_count": 37,
   "metadata": {
    "vscode": {
     "languageId": "python"
    }
   },
   "outputs": [
    {
     "data": {
      "image/png": "[encoded data removed]",
      "text/plain": [
       "<Figure size 432x288 with 1 Axes>"
      ]
     },
     "metadata": {
      "needs_background": "light"
     },
     "output_type": "display_data"
    },
    {
     "data": {
      "image/png": "[encoded data removed]",
      "text/plain": [
       "<Figure size 1080x360 with 1 Axes>"
      ]
     },
     "metadata": {
      "needs_background": "light"
     },
     "output_type": "display_data"
    }
   ],
   "source": [
    "sli1 = totaldf[[\"Volume Produced(m3)\"]].copy()\n",
    "sli1 = descrete_buffer(sli1,dividelis = [0,10,5e7,5e8,1e9], bufferlis = [1,5,10,15,20])\n",
    "sli1[\"BUFF_DIST\"].hist()\n",
    "visulize_buffer(sli1)\n",
    "#sli1.to_csv(os.path.join(r\"data/forfeature/BUFF_DIST\",\"stage_1.csv\"))"
   ]
  },
  {
   "cell_type": "code",
   "execution_count": 23,
   "metadata": {
    "vscode": {
     "languageId": "python"
    }
   },
   "outputs": [
    {
     "data": {
      "image/png": "[encoded data removed]",
      "text/plain": [
       "<Figure size 432x288 with 1 Axes>"
      ]
     },
     "metadata": {
      "needs_background": "light"
     },
     "output_type": "display_data"
    },
    {
     "data": {
      "image/png": "[encoded data removed]",
      "text/plain": [
       "<Figure size 1080x360 with 1 Axes>"
      ]
     },
     "metadata": {
      "needs_background": "light"
     },
     "output_type": "display_data"
    }
   ],
   "source": [
    "sli2 = totaldf[[\"Volume Produced(m3)\"]].copy()\n",
    "sli2 = descrete_buffer(sli2,dividelis = [0, 10, 5e7,5e8,1e9], bufferlis = [1,3,5,8,15])\n",
    "sli2[\"BUFF_DIST\"].hist()\n",
    "visulize_buffer(sli2,dividelis = [0, 10, 5e7,5e8,1e9], bufferlis = [1,3,5,8,15])\n",
    "#sli2.to_csv(os.path.join(r\"data/forfeature/BUFF_DIST\",\"stage_2.csv\"))"
   ]
  },
  {
   "cell_type": "code",
   "execution_count": 24,
   "metadata": {
    "vscode": {
     "languageId": "python"
    }
   },
   "outputs": [
    {
     "data": {
      "image/png": "[encoded data removed]",
      "text/plain": [
       "<Figure size 432x288 with 1 Axes>"
      ]
     },
     "metadata": {
      "needs_background": "light"
     },
     "output_type": "display_data"
    },
    {
     "data": {
      "image/png": "[encoded data removed]",
      "text/plain": [
       "<Figure size 1080x360 with 1 Axes>"
      ]
     },
     "metadata": {
      "needs_background": "light"
     },
     "output_type": "display_data"
    }
   ],
   "source": [
    "sli3 = totaldf[[\"Volume Produced(m3)\"]].copy()\n",
    "sli3 = descrete_buffer(sli3,dividelis = [0, 10, 1e7,1e8,5e8,1e9], bufferlis = [1,3,5,8,15,20])\n",
    "sli3[\"BUFF_DIST\"].hist()\n",
    "visulize_buffer(sli3,dividelis = [0, 10, 1e7,1e8,5e8,1e9], bufferlis = [1,3,5,8,15,20])\n",
    "#sli3.to_csv(os.path.join(r\"data/forfeature/BUFF_DIST\",\"stage_3.csv\"))"
   ]
  },
  {
   "attachments": {},
   "cell_type": "markdown",
   "metadata": {},
   "source": [
    "### Continuous buffer"
   ]
  },
  {
   "cell_type": "code",
   "execution_count": 18,
   "metadata": {
    "vscode": {
     "languageId": "python"
    }
   },
   "outputs": [],
   "source": [
    "def f(x,k,b):\n",
    "    return (k*np.log10(x)+b)*1000"
   ]
  },
  {
   "cell_type": "code",
   "execution_count": 19,
   "metadata": {
    "vscode": {
     "languageId": "python"
    }
   },
   "outputs": [],
   "source": [
    "def f2(x,k,b):\n",
    "    return (k*x+b)*1000"
   ]
  },
  {
   "cell_type": "code",
   "execution_count": 45,
   "metadata": {
    "vscode": {
     "languageId": "python"
    }
   },
   "outputs": [],
   "source": [
    "def continuous_buffer(df,vcol = \"Volume Produced(m3)\", f = f, k = 1, b = 0):\n",
    "    df[\"BUFF_DIST\"]= f(df[vcol].loc[df[vcol]!=0] ,k,b)\n",
    "    df = df.fillna(1*1000)\n",
    "    return df"
   ]
  },
  {
   "cell_type": "code",
   "execution_count": 46,
   "metadata": {
    "vscode": {
     "languageId": "python"
    }
   },
   "outputs": [
    {
     "name": "stderr",
     "output_type": "stream",
     "text": [
      "C:\\Users\\Intel\\AppData\\Local\\Temp\\ipykernel_19100\\1615199958.py:2: RuntimeWarning: divide by zero encountered in log10\n",
      "  return (k*np.log10(x)+b)*1000\n"
     ]
    },
    {
     "data": {
      "image/png": "[encoded data removed]",
      "text/plain": [
       "<Figure size 432x288 with 1 Axes>"
      ]
     },
     "metadata": {
      "needs_background": "light"
     },
     "output_type": "display_data"
    },
    {
     "data": {
      "image/png": "[encoded data removed]",
      "text/plain": [
       "<Figure size 1080x360 with 1 Axes>"
      ]
     },
     "metadata": {
      "needs_background": "light"
     },
     "output_type": "display_data"
    }
   ],
   "source": [
    "sli4 = totaldf[[\"Volume Produced(m3)\"]].copy()\n",
    "sli4 = continuous_buffer(sli4,k=2.5,b=-5)\n",
    "sli4[\"BUFF_DIST\"].hist()\n",
    "visulize_buffer(sli4,descrete=False,k=2.5,b=-5)\n",
    "#sli4.to_csv(os.path.join(r\"data/forfeature/BUFF_DIST\",\"log_1.csv\"))"
   ]
  },
  {
   "cell_type": "code",
   "execution_count": 47,
   "metadata": {
    "vscode": {
     "languageId": "python"
    }
   },
   "outputs": [
    {
     "name": "stderr",
     "output_type": "stream",
     "text": [
      "C:\\Users\\Intel\\AppData\\Local\\Temp\\ipykernel_19100\\1615199958.py:2: RuntimeWarning: divide by zero encountered in log10\n",
      "  return (k*np.log10(x)+b)*1000\n"
     ]
    },
    {
     "data": {
      "image/png": "[encoded data removed]",
      "text/plain": [
       "<Figure size 432x288 with 1 Axes>"
      ]
     },
     "metadata": {
      "needs_background": "light"
     },
     "output_type": "display_data"
    },
    {
     "data": {
      "image/png": "[encoded data removed]",
      "text/plain": [
       "<Figure size 1080x360 with 1 Axes>"
      ]
     },
     "metadata": {
      "needs_background": "light"
     },
     "output_type": "display_data"
    }
   ],
   "source": [
    "sli5 = totaldf[[\"Volume Produced(m3)\"]].copy()\n",
    "sli5 = continuous_buffer(sli5,k=1.5,b=5)\n",
    "sli5[\"BUFF_DIST\"].hist()\n",
    "visulize_buffer(sli5,descrete=False,k=1.5,b=5)\n",
    "#sli5.to_csv(os.path.join(r\"data/forfeature/BUFF_DIST\",\"log_2.csv\"))"
   ]
  },
  {
   "cell_type": "code",
   "execution_count": 48,
   "metadata": {
    "vscode": {
     "languageId": "python"
    }
   },
   "outputs": [
    {
     "name": "stderr",
     "output_type": "stream",
     "text": [
      "C:\\Users\\Intel\\AppData\\Local\\Temp\\ipykernel_19100\\1615199958.py:2: RuntimeWarning: divide by zero encountered in log10\n",
      "  return (k*np.log10(x)+b)*1000\n"
     ]
    },
    {
     "data": {
      "image/png": "[encoded data removed]",
      "text/plain": [
       "<Figure size 432x288 with 1 Axes>"
      ]
     },
     "metadata": {
      "needs_background": "light"
     },
     "output_type": "display_data"
    },
    {
     "data": {
      "image/png": "[encoded data removed]",
      "text/plain": [
       "<Figure size 1080x360 with 1 Axes>"
      ]
     },
     "metadata": {
      "needs_background": "light"
     },
     "output_type": "display_data"
    }
   ],
   "source": [
    "sli6 = totaldf[[\"Volume Produced(m3)\"]].copy()\n",
    "sli6 = continuous_buffer(sli6,k=2,b=0)\n",
    "sli6[\"BUFF_DIST\"].hist()\n",
    "visulize_buffer(sli6,descrete=False,k=2,b=0)\n",
    "#sli6.to_csv(os.path.join(r\"data/forfeature/BUFF_DIST\",\"log_3.csv\"))"
   ]
  },
  {
   "cell_type": "code",
   "execution_count": 49,
   "metadata": {
    "vscode": {
     "languageId": "python"
    }
   },
   "outputs": [
    {
     "data": {
      "image/png": "[encoded data removed]",
      "text/plain": [
       "<Figure size 432x288 with 1 Axes>"
      ]
     },
     "metadata": {
      "needs_background": "light"
     },
     "output_type": "display_data"
    },
    {
     "data": {
      "image/png": "[encoded data removed]",
      "text/plain": [
       "<Figure size 1080x360 with 1 Axes>"
      ]
     },
     "metadata": {
      "needs_background": "light"
     },
     "output_type": "display_data"
    }
   ],
   "source": [
    "sli7 = totaldf[[\"Volume Produced(m3)\"]].copy()\n",
    "sli7 = continuous_buffer(sli7,f = f2,k=2*1e-9,b=1)\n",
    "sli7[\"BUFF_DIST\"].hist()\n",
    "visulize_buffer(sli7,descrete=False,f=f2,k=2*1e-9,b=1)\n",
    "#sli7.to_csv(os.path.join(r\"data/forfeature/BUFF_DIST\",\"linear_1.csv\"))"
   ]
  },
  {
   "cell_type": "code",
   "execution_count": 50,
   "metadata": {
    "vscode": {
     "languageId": "python"
    }
   },
   "outputs": [
    {
     "data": {
      "image/png": "[encoded data removed]",
      "text/plain": [
       "<Figure size 432x288 with 1 Axes>"
      ]
     },
     "metadata": {
      "needs_background": "light"
     },
     "output_type": "display_data"
    },
    {
     "data": {
      "image/png": "[encoded data removed]",
      "text/plain": [
       "<Figure size 1080x360 with 1 Axes>"
      ]
     },
     "metadata": {
      "needs_background": "light"
     },
     "output_type": "display_data"
    }
   ],
   "source": [
    "sli8 = totaldf[[\"Volume Produced(m3)\"]].copy()\n",
    "sli8 = continuous_buffer(sli8,f = f2,k=2.5*1e-9,b=1)\n",
    "sli8[\"BUFF_DIST\"].hist()\n",
    "visulize_buffer(sli8,descrete=False,f=f2,k=2.5*1e-9,b=1)\n",
    "#sli8.to_csv(os.path.join(r\"data/forfeature/BUFF_DIST\",\"linear_2.csv\"))"
   ]
  },
  {
   "cell_type": "code",
   "execution_count": 51,
   "metadata": {
    "vscode": {
     "languageId": "python"
    }
   },
   "outputs": [
    {
     "data": {
      "image/png": "[encoded data removed]",
      "text/plain": [
       "<Figure size 432x288 with 1 Axes>"
      ]
     },
     "metadata": {
      "needs_background": "light"
     },
     "output_type": "display_data"
    },
    {
     "data": {
      "image/png": "[encoded data removed]",
      "text/plain": [
       "<Figure size 1080x360 with 1 Axes>"
      ]
     },
     "metadata": {
      "needs_background": "light"
     },
     "output_type": "display_data"
    }
   ],
   "source": [
    "sli9 = totaldf[[\"Volume Produced(m3)\"]].copy()\n",
    "sli9 = continuous_buffer(sli9,f = f2,k=1.5*1e-9,b=5)\n",
    "sli9[\"BUFF_DIST\"].hist()\n",
    "visulize_buffer(sli9,descrete=False,f=f2,k=1.5*1e-9,b=5)\n",
    "#sli9.to_csv(os.path.join(r\"data/forfeature/BUFF_DIST\",\"linear_3.csv\"))"
   ]
  },
  {
   "attachments": {},
   "cell_type": "markdown",
   "metadata": {},
   "source": [
    "### Result combinition"
   ]
  },
  {
   "cell_type": "code",
   "execution_count": 54,
   "metadata": {
    "vscode": {
     "languageId": "python"
    }
   },
   "outputs": [],
   "source": [
    "sli = pd.DataFrame(index = sli1.index)\n",
    "sli[\"step_1\"] = sli1[\"BUFF_DIST\"]\n",
    "sli[\"step_2\"] = sli2[\"BUFF_DIST\"]\n",
    "sli[\"step_3\"] = sli3[\"BUFF_DIST\"]\n",
    "sli[\"log_1\"] = sli4[\"BUFF_DIST\"]\n",
    "sli[\"log_2\"] = sli5[\"BUFF_DIST\"]\n",
    "sli[\"log_3\"] = sli6[\"BUFF_DIST\"]\n",
    "sli[\"linear_1\"] = sli7[\"BUFF_DIST\"]\n",
    "sli[\"linear_2\"] = sli8[\"BUFF_DIST\"]\n",
    "sli[\"linear_3\"] = sli9[\"BUFF_DIST\"]"
   ]
  },
  {
   "cell_type": "code",
   "execution_count": 55,
   "metadata": {
    "vscode": {
     "languageId": "python"
    }
   },
   "outputs": [
    {
     "data": {
      "text/html": [
       "<div>\n",
       "<style scoped>\n",
       "    .dataframe tbody tr th:only-of-type {\n",
       "        vertical-align: middle;\n",
       "    }\n",
       "\n",
       "    .dataframe tbody tr th {\n",
       "        vertical-align: top;\n",
       "    }\n",
       "\n",
       "    .dataframe thead th {\n",
       "        text-align: right;\n",
       "    }\n",
       "</style>\n",
       "<table border=\"1\" class=\"dataframe\">\n",
       "  <thead>\n",
       "    <tr style=\"text-align: right;\">\n",
       "      <th></th>\n",
       "      <th>step_1</th>\n",
       "      <th>step_2</th>\n",
       "      <th>step_3</th>\n",
       "      <th>log_1</th>\n",
       "      <th>log_2</th>\n",
       "      <th>log_3</th>\n",
       "      <th>linear_1</th>\n",
       "      <th>linear_2</th>\n",
       "      <th>linear_3</th>\n",
       "    </tr>\n",
       "    <tr>\n",
       "      <th>OID</th>\n",
       "      <th></th>\n",
       "      <th></th>\n",
       "      <th></th>\n",
       "      <th></th>\n",
       "      <th></th>\n",
       "      <th></th>\n",
       "      <th></th>\n",
       "      <th></th>\n",
       "      <th></th>\n",
       "    </tr>\n",
       "  </thead>\n",
       "  <tbody>\n",
       "    <tr>\n",
       "      <th>1</th>\n",
       "      <td>5000.0</td>\n",
       "      <td>3000.0</td>\n",
       "      <td>5000.0</td>\n",
       "      <td>13150.283153</td>\n",
       "      <td>15890.169892</td>\n",
       "      <td>14520.226523</td>\n",
       "      <td>1036.403510</td>\n",
       "      <td>1045.504387</td>\n",
       "      <td>5027.302632</td>\n",
       "    </tr>\n",
       "    <tr>\n",
       "      <th>2</th>\n",
       "      <td>5000.0</td>\n",
       "      <td>3000.0</td>\n",
       "      <td>5000.0</td>\n",
       "      <td>14187.878204</td>\n",
       "      <td>16512.726922</td>\n",
       "      <td>15350.302563</td>\n",
       "      <td>1094.663221</td>\n",
       "      <td>1118.329026</td>\n",
       "      <td>5070.997416</td>\n",
       "    </tr>\n",
       "    <tr>\n",
       "      <th>3</th>\n",
       "      <td>20000.0</td>\n",
       "      <td>15000.0</td>\n",
       "      <td>20000.0</td>\n",
       "      <td>19274.393717</td>\n",
       "      <td>19564.636230</td>\n",
       "      <td>19419.514973</td>\n",
       "      <td>11251.501563</td>\n",
       "      <td>13814.376954</td>\n",
       "      <td>12688.626173</td>\n",
       "    </tr>\n",
       "    <tr>\n",
       "      <th>4</th>\n",
       "      <td>1000.0</td>\n",
       "      <td>1000.0</td>\n",
       "      <td>1000.0</td>\n",
       "      <td>1000.000000</td>\n",
       "      <td>1000.000000</td>\n",
       "      <td>1000.000000</td>\n",
       "      <td>1000.000000</td>\n",
       "      <td>1000.000000</td>\n",
       "      <td>1000.000000</td>\n",
       "    </tr>\n",
       "    <tr>\n",
       "      <th>5</th>\n",
       "      <td>1000.0</td>\n",
       "      <td>1000.0</td>\n",
       "      <td>1000.0</td>\n",
       "      <td>1000.000000</td>\n",
       "      <td>1000.000000</td>\n",
       "      <td>1000.000000</td>\n",
       "      <td>1000.000000</td>\n",
       "      <td>1000.000000</td>\n",
       "      <td>1000.000000</td>\n",
       "    </tr>\n",
       "    <tr>\n",
       "      <th>6</th>\n",
       "      <td>1000.0</td>\n",
       "      <td>1000.0</td>\n",
       "      <td>1000.0</td>\n",
       "      <td>1000.000000</td>\n",
       "      <td>1000.000000</td>\n",
       "      <td>1000.000000</td>\n",
       "      <td>1000.000000</td>\n",
       "      <td>1000.000000</td>\n",
       "      <td>1000.000000</td>\n",
       "    </tr>\n",
       "    <tr>\n",
       "      <th>7</th>\n",
       "      <td>5000.0</td>\n",
       "      <td>3000.0</td>\n",
       "      <td>3000.0</td>\n",
       "      <td>10091.043072</td>\n",
       "      <td>14054.625843</td>\n",
       "      <td>12072.834457</td>\n",
       "      <td>1002.174940</td>\n",
       "      <td>1002.718675</td>\n",
       "      <td>5001.631205</td>\n",
       "    </tr>\n",
       "    <tr>\n",
       "      <th>8</th>\n",
       "      <td>1000.0</td>\n",
       "      <td>1000.0</td>\n",
       "      <td>1000.0</td>\n",
       "      <td>1000.000000</td>\n",
       "      <td>1000.000000</td>\n",
       "      <td>1000.000000</td>\n",
       "      <td>1000.000000</td>\n",
       "      <td>1000.000000</td>\n",
       "      <td>1000.000000</td>\n",
       "    </tr>\n",
       "    <tr>\n",
       "      <th>9</th>\n",
       "      <td>15000.0</td>\n",
       "      <td>8000.0</td>\n",
       "      <td>15000.0</td>\n",
       "      <td>17311.613631</td>\n",
       "      <td>18386.968179</td>\n",
       "      <td>17849.290905</td>\n",
       "      <td>2681.417055</td>\n",
       "      <td>3101.771318</td>\n",
       "      <td>6261.062791</td>\n",
       "    </tr>\n",
       "    <tr>\n",
       "      <th>10</th>\n",
       "      <td>10000.0</td>\n",
       "      <td>5000.0</td>\n",
       "      <td>8000.0</td>\n",
       "      <td>16743.150647</td>\n",
       "      <td>18045.890388</td>\n",
       "      <td>17394.520517</td>\n",
       "      <td>1996.070904</td>\n",
       "      <td>2245.088631</td>\n",
       "      <td>5747.053178</td>\n",
       "    </tr>\n",
       "    <tr>\n",
       "      <th>11</th>\n",
       "      <td>10000.0</td>\n",
       "      <td>5000.0</td>\n",
       "      <td>8000.0</td>\n",
       "      <td>15111.686591</td>\n",
       "      <td>17067.011954</td>\n",
       "      <td>16089.349272</td>\n",
       "      <td>1221.668831</td>\n",
       "      <td>1277.086039</td>\n",
       "      <td>5166.251624</td>\n",
       "    </tr>\n",
       "    <tr>\n",
       "      <th>12</th>\n",
       "      <td>5000.0</td>\n",
       "      <td>3000.0</td>\n",
       "      <td>5000.0</td>\n",
       "      <td>14190.872515</td>\n",
       "      <td>16514.523509</td>\n",
       "      <td>15352.698012</td>\n",
       "      <td>1094.924649</td>\n",
       "      <td>1118.655812</td>\n",
       "      <td>5071.193487</td>\n",
       "    </tr>\n",
       "    <tr>\n",
       "      <th>13</th>\n",
       "      <td>1000.0</td>\n",
       "      <td>1000.0</td>\n",
       "      <td>1000.0</td>\n",
       "      <td>1000.000000</td>\n",
       "      <td>1000.000000</td>\n",
       "      <td>1000.000000</td>\n",
       "      <td>1000.000000</td>\n",
       "      <td>1000.000000</td>\n",
       "      <td>1000.000000</td>\n",
       "    </tr>\n",
       "    <tr>\n",
       "      <th>14</th>\n",
       "      <td>10000.0</td>\n",
       "      <td>5000.0</td>\n",
       "      <td>8000.0</td>\n",
       "      <td>16483.209253</td>\n",
       "      <td>17889.925552</td>\n",
       "      <td>17186.567402</td>\n",
       "      <td>1783.995729</td>\n",
       "      <td>1979.994661</td>\n",
       "      <td>5587.996797</td>\n",
       "    </tr>\n",
       "    <tr>\n",
       "      <th>15</th>\n",
       "      <td>5000.0</td>\n",
       "      <td>3000.0</td>\n",
       "      <td>3000.0</td>\n",
       "      <td>10481.550040</td>\n",
       "      <td>14288.930024</td>\n",
       "      <td>12385.240032</td>\n",
       "      <td>1003.116377</td>\n",
       "      <td>1003.895471</td>\n",
       "      <td>5002.337283</td>\n",
       "    </tr>\n",
       "    <tr>\n",
       "      <th>16</th>\n",
       "      <td>1000.0</td>\n",
       "      <td>1000.0</td>\n",
       "      <td>1000.0</td>\n",
       "      <td>1000.000000</td>\n",
       "      <td>1000.000000</td>\n",
       "      <td>1000.000000</td>\n",
       "      <td>1000.000000</td>\n",
       "      <td>1000.000000</td>\n",
       "      <td>1000.000000</td>\n",
       "    </tr>\n",
       "    <tr>\n",
       "      <th>17</th>\n",
       "      <td>10000.0</td>\n",
       "      <td>5000.0</td>\n",
       "      <td>8000.0</td>\n",
       "      <td>16616.594570</td>\n",
       "      <td>17969.956742</td>\n",
       "      <td>17293.275656</td>\n",
       "      <td>1886.477717</td>\n",
       "      <td>2108.097147</td>\n",
       "      <td>5664.858288</td>\n",
       "    </tr>\n",
       "    <tr>\n",
       "      <th>18</th>\n",
       "      <td>5000.0</td>\n",
       "      <td>3000.0</td>\n",
       "      <td>5000.0</td>\n",
       "      <td>13794.276962</td>\n",
       "      <td>16276.566177</td>\n",
       "      <td>15035.421570</td>\n",
       "      <td>1065.878057</td>\n",
       "      <td>1082.347571</td>\n",
       "      <td>5049.408543</td>\n",
       "    </tr>\n",
       "    <tr>\n",
       "      <th>19</th>\n",
       "      <td>5000.0</td>\n",
       "      <td>3000.0</td>\n",
       "      <td>3000.0</td>\n",
       "      <td>10937.894631</td>\n",
       "      <td>14562.736779</td>\n",
       "      <td>12750.315705</td>\n",
       "      <td>1004.744472</td>\n",
       "      <td>1005.930589</td>\n",
       "      <td>5003.558354</td>\n",
       "    </tr>\n",
       "    <tr>\n",
       "      <th>20</th>\n",
       "      <td>20000.0</td>\n",
       "      <td>15000.0</td>\n",
       "      <td>20000.0</td>\n",
       "      <td>18244.357097</td>\n",
       "      <td>18946.614258</td>\n",
       "      <td>18595.485677</td>\n",
       "      <td>4969.838454</td>\n",
       "      <td>5962.298068</td>\n",
       "      <td>7977.378841</td>\n",
       "    </tr>\n",
       "    <tr>\n",
       "      <th>21</th>\n",
       "      <td>10000.0</td>\n",
       "      <td>5000.0</td>\n",
       "      <td>8000.0</td>\n",
       "      <td>15953.097495</td>\n",
       "      <td>17571.858497</td>\n",
       "      <td>16762.477996</td>\n",
       "      <td>1481.137263</td>\n",
       "      <td>1601.421579</td>\n",
       "      <td>5360.852947</td>\n",
       "    </tr>\n",
       "    <tr>\n",
       "      <th>22</th>\n",
       "      <td>10000.0</td>\n",
       "      <td>5000.0</td>\n",
       "      <td>8000.0</td>\n",
       "      <td>15477.857612</td>\n",
       "      <td>17286.714567</td>\n",
       "      <td>16382.286089</td>\n",
       "      <td>1310.579682</td>\n",
       "      <td>1388.224602</td>\n",
       "      <td>5232.934761</td>\n",
       "    </tr>\n",
       "    <tr>\n",
       "      <th>23</th>\n",
       "      <td>1000.0</td>\n",
       "      <td>1000.0</td>\n",
       "      <td>1000.0</td>\n",
       "      <td>1000.000000</td>\n",
       "      <td>1000.000000</td>\n",
       "      <td>1000.000000</td>\n",
       "      <td>1000.000000</td>\n",
       "      <td>1000.000000</td>\n",
       "      <td>1000.000000</td>\n",
       "    </tr>\n",
       "    <tr>\n",
       "      <th>24</th>\n",
       "      <td>15000.0</td>\n",
       "      <td>8000.0</td>\n",
       "      <td>15000.0</td>\n",
       "      <td>17438.601493</td>\n",
       "      <td>18463.160896</td>\n",
       "      <td>17950.881194</td>\n",
       "      <td>2890.038248</td>\n",
       "      <td>3362.547809</td>\n",
       "      <td>6417.528686</td>\n",
       "    </tr>\n",
       "    <tr>\n",
       "      <th>25</th>\n",
       "      <td>1000.0</td>\n",
       "      <td>1000.0</td>\n",
       "      <td>1000.0</td>\n",
       "      <td>1000.000000</td>\n",
       "      <td>1000.000000</td>\n",
       "      <td>1000.000000</td>\n",
       "      <td>1000.000000</td>\n",
       "      <td>1000.000000</td>\n",
       "      <td>1000.000000</td>\n",
       "    </tr>\n",
       "    <tr>\n",
       "      <th>26</th>\n",
       "      <td>1000.0</td>\n",
       "      <td>1000.0</td>\n",
       "      <td>1000.0</td>\n",
       "      <td>1000.000000</td>\n",
       "      <td>1000.000000</td>\n",
       "      <td>1000.000000</td>\n",
       "      <td>1000.000000</td>\n",
       "      <td>1000.000000</td>\n",
       "      <td>1000.000000</td>\n",
       "    </tr>\n",
       "    <tr>\n",
       "      <th>27</th>\n",
       "      <td>10000.0</td>\n",
       "      <td>5000.0</td>\n",
       "      <td>8000.0</td>\n",
       "      <td>16137.374596</td>\n",
       "      <td>17682.424758</td>\n",
       "      <td>16909.899677</td>\n",
       "      <td>1570.137798</td>\n",
       "      <td>1712.672248</td>\n",
       "      <td>5427.603349</td>\n",
       "    </tr>\n",
       "    <tr>\n",
       "      <th>28</th>\n",
       "      <td>15000.0</td>\n",
       "      <td>8000.0</td>\n",
       "      <td>15000.0</td>\n",
       "      <td>17357.356392</td>\n",
       "      <td>18414.413835</td>\n",
       "      <td>17885.885114</td>\n",
       "      <td>2753.769660</td>\n",
       "      <td>3192.212075</td>\n",
       "      <td>6315.327245</td>\n",
       "    </tr>\n",
       "    <tr>\n",
       "      <th>29</th>\n",
       "      <td>20000.0</td>\n",
       "      <td>15000.0</td>\n",
       "      <td>20000.0</td>\n",
       "      <td>18311.209678</td>\n",
       "      <td>18986.725807</td>\n",
       "      <td>18648.967743</td>\n",
       "      <td>5221.957596</td>\n",
       "      <td>6277.446995</td>\n",
       "      <td>8166.468197</td>\n",
       "    </tr>\n",
       "    <tr>\n",
       "      <th>30</th>\n",
       "      <td>10000.0</td>\n",
       "      <td>5000.0</td>\n",
       "      <td>5000.0</td>\n",
       "      <td>14751.470919</td>\n",
       "      <td>16850.882551</td>\n",
       "      <td>15801.176735</td>\n",
       "      <td>1159.081019</td>\n",
       "      <td>1198.851273</td>\n",
       "      <td>5119.310764</td>\n",
       "    </tr>\n",
       "    <tr>\n",
       "      <th>31</th>\n",
       "      <td>20000.0</td>\n",
       "      <td>15000.0</td>\n",
       "      <td>20000.0</td>\n",
       "      <td>19200.446840</td>\n",
       "      <td>19520.268104</td>\n",
       "      <td>19360.357472</td>\n",
       "      <td>10576.542309</td>\n",
       "      <td>12970.677886</td>\n",
       "      <td>12182.406732</td>\n",
       "    </tr>\n",
       "    <tr>\n",
       "      <th>32</th>\n",
       "      <td>5000.0</td>\n",
       "      <td>3000.0</td>\n",
       "      <td>5000.0</td>\n",
       "      <td>13545.887235</td>\n",
       "      <td>16127.532341</td>\n",
       "      <td>14836.709788</td>\n",
       "      <td>1052.406468</td>\n",
       "      <td>1065.508085</td>\n",
       "      <td>5039.304851</td>\n",
       "    </tr>\n",
       "    <tr>\n",
       "      <th>33</th>\n",
       "      <td>5000.0</td>\n",
       "      <td>3000.0</td>\n",
       "      <td>5000.0</td>\n",
       "      <td>13836.632432</td>\n",
       "      <td>16301.979459</td>\n",
       "      <td>15069.305946</td>\n",
       "      <td>1068.498801</td>\n",
       "      <td>1085.623501</td>\n",
       "      <td>5051.374101</td>\n",
       "    </tr>\n",
       "    <tr>\n",
       "      <th>34</th>\n",
       "      <td>1000.0</td>\n",
       "      <td>1000.0</td>\n",
       "      <td>1000.0</td>\n",
       "      <td>1000.000000</td>\n",
       "      <td>1000.000000</td>\n",
       "      <td>1000.000000</td>\n",
       "      <td>1000.000000</td>\n",
       "      <td>1000.000000</td>\n",
       "      <td>1000.000000</td>\n",
       "    </tr>\n",
       "    <tr>\n",
       "      <th>35</th>\n",
       "      <td>5000.0</td>\n",
       "      <td>3000.0</td>\n",
       "      <td>3000.0</td>\n",
       "      <td>9525.222018</td>\n",
       "      <td>13715.133211</td>\n",
       "      <td>11620.177615</td>\n",
       "      <td>1001.291573</td>\n",
       "      <td>1001.614466</td>\n",
       "      <td>5000.968679</td>\n",
       "    </tr>\n",
       "    <tr>\n",
       "      <th>36</th>\n",
       "      <td>10000.0</td>\n",
       "      <td>5000.0</td>\n",
       "      <td>5000.0</td>\n",
       "      <td>14657.435642</td>\n",
       "      <td>16794.461385</td>\n",
       "      <td>15725.948514</td>\n",
       "      <td>1145.882855</td>\n",
       "      <td>1182.353568</td>\n",
       "      <td>5109.412141</td>\n",
       "    </tr>\n",
       "    <tr>\n",
       "      <th>37</th>\n",
       "      <td>5000.0</td>\n",
       "      <td>3000.0</td>\n",
       "      <td>3000.0</td>\n",
       "      <td>12094.933025</td>\n",
       "      <td>15256.959815</td>\n",
       "      <td>13675.946420</td>\n",
       "      <td>1013.772196</td>\n",
       "      <td>1017.215245</td>\n",
       "      <td>5010.329147</td>\n",
       "    </tr>\n",
       "    <tr>\n",
       "      <th>38</th>\n",
       "      <td>5000.0</td>\n",
       "      <td>3000.0</td>\n",
       "      <td>3000.0</td>\n",
       "      <td>9336.264150</td>\n",
       "      <td>13601.758490</td>\n",
       "      <td>11469.011320</td>\n",
       "      <td>1001.085265</td>\n",
       "      <td>1001.356581</td>\n",
       "      <td>5000.813948</td>\n",
       "    </tr>\n",
       "    <tr>\n",
       "      <th>39</th>\n",
       "      <td>10000.0</td>\n",
       "      <td>5000.0</td>\n",
       "      <td>8000.0</td>\n",
       "      <td>15294.368805</td>\n",
       "      <td>17176.621283</td>\n",
       "      <td>16235.495044</td>\n",
       "      <td>1262.287454</td>\n",
       "      <td>1327.859318</td>\n",
       "      <td>5196.715591</td>\n",
       "    </tr>\n",
       "    <tr>\n",
       "      <th>40</th>\n",
       "      <td>10000.0</td>\n",
       "      <td>5000.0</td>\n",
       "      <td>8000.0</td>\n",
       "      <td>16045.275911</td>\n",
       "      <td>17627.165547</td>\n",
       "      <td>16836.220729</td>\n",
       "      <td>1523.769687</td>\n",
       "      <td>1654.712109</td>\n",
       "      <td>5392.827265</td>\n",
       "    </tr>\n",
       "    <tr>\n",
       "      <th>41</th>\n",
       "      <td>5000.0</td>\n",
       "      <td>3000.0</td>\n",
       "      <td>5000.0</td>\n",
       "      <td>13928.115261</td>\n",
       "      <td>16356.869157</td>\n",
       "      <td>15142.492209</td>\n",
       "      <td>1074.520558</td>\n",
       "      <td>1093.150698</td>\n",
       "      <td>5055.890419</td>\n",
       "    </tr>\n",
       "    <tr>\n",
       "      <th>42</th>\n",
       "      <td>10000.0</td>\n",
       "      <td>5000.0</td>\n",
       "      <td>8000.0</td>\n",
       "      <td>16068.363528</td>\n",
       "      <td>17641.018117</td>\n",
       "      <td>16854.690822</td>\n",
       "      <td>1535.026640</td>\n",
       "      <td>1668.783300</td>\n",
       "      <td>5401.269980</td>\n",
       "    </tr>\n",
       "    <tr>\n",
       "      <th>43</th>\n",
       "      <td>15000.0</td>\n",
       "      <td>8000.0</td>\n",
       "      <td>15000.0</td>\n",
       "      <td>17071.026972</td>\n",
       "      <td>18242.616183</td>\n",
       "      <td>17656.821578</td>\n",
       "      <td>2347.227020</td>\n",
       "      <td>2684.033776</td>\n",
       "      <td>6010.420265</td>\n",
       "    </tr>\n",
       "    <tr>\n",
       "      <th>44</th>\n",
       "      <td>1000.0</td>\n",
       "      <td>1000.0</td>\n",
       "      <td>1000.0</td>\n",
       "      <td>1000.000000</td>\n",
       "      <td>1000.000000</td>\n",
       "      <td>1000.000000</td>\n",
       "      <td>1000.000000</td>\n",
       "      <td>1000.000000</td>\n",
       "      <td>1000.000000</td>\n",
       "    </tr>\n",
       "    <tr>\n",
       "      <th>45</th>\n",
       "      <td>5000.0</td>\n",
       "      <td>3000.0</td>\n",
       "      <td>3000.0</td>\n",
       "      <td>11780.403516</td>\n",
       "      <td>15068.242109</td>\n",
       "      <td>13424.322812</td>\n",
       "      <td>1010.308403</td>\n",
       "      <td>1012.885504</td>\n",
       "      <td>5007.731302</td>\n",
       "    </tr>\n",
       "    <tr>\n",
       "      <th>47</th>\n",
       "      <td>1000.0</td>\n",
       "      <td>1000.0</td>\n",
       "      <td>1000.0</td>\n",
       "      <td>1000.000000</td>\n",
       "      <td>1000.000000</td>\n",
       "      <td>1000.000000</td>\n",
       "      <td>1000.000000</td>\n",
       "      <td>1000.000000</td>\n",
       "      <td>1000.000000</td>\n",
       "    </tr>\n",
       "    <tr>\n",
       "      <th>71</th>\n",
       "      <td>20000.0</td>\n",
       "      <td>15000.0</td>\n",
       "      <td>20000.0</td>\n",
       "      <td>19817.582648</td>\n",
       "      <td>19890.549589</td>\n",
       "      <td>19854.066119</td>\n",
       "      <td>17906.863835</td>\n",
       "      <td>22133.579793</td>\n",
       "      <td>17680.147876</td>\n",
       "    </tr>\n",
       "    <tr>\n",
       "      <th>72</th>\n",
       "      <td>15000.0</td>\n",
       "      <td>8000.0</td>\n",
       "      <td>15000.0</td>\n",
       "      <td>17293.235648</td>\n",
       "      <td>18375.941389</td>\n",
       "      <td>17834.588519</td>\n",
       "      <td>2653.195654</td>\n",
       "      <td>3066.494568</td>\n",
       "      <td>6239.896741</td>\n",
       "    </tr>\n",
       "  </tbody>\n",
       "</table>\n",
       "</div>"
      ],
      "text/plain": [
       "      step_1   step_2   step_3         log_1         log_2         log_3  \\\n",
       "OID                                                                        \n",
       "1     5000.0   3000.0   5000.0  13150.283153  15890.169892  14520.226523   \n",
       "2     5000.0   3000.0   5000.0  14187.878204  16512.726922  15350.302563   \n",
       "3    20000.0  15000.0  20000.0  19274.393717  19564.636230  19419.514973   \n",
       "4     1000.0   1000.0   1000.0   1000.000000   1000.000000   1000.000000   \n",
       "5     1000.0   1000.0   1000.0   1000.000000   1000.000000   1000.000000   \n",
       "6     1000.0   1000.0   1000.0   1000.000000   1000.000000   1000.000000   \n",
       "7     5000.0   3000.0   3000.0  10091.043072  14054.625843  12072.834457   \n",
       "8     1000.0   1000.0   1000.0   1000.000000   1000.000000   1000.000000   \n",
       "9    15000.0   8000.0  15000.0  17311.613631  18386.968179  17849.290905   \n",
       "10   10000.0   5000.0   8000.0  16743.150647  18045.890388  17394.520517   \n",
       "11   10000.0   5000.0   8000.0  15111.686591  17067.011954  16089.349272   \n",
       "12    5000.0   3000.0   5000.0  14190.872515  16514.523509  15352.698012   \n",
       "13    1000.0   1000.0   1000.0   1000.000000   1000.000000   1000.000000   \n",
       "14   10000.0   5000.0   8000.0  16483.209253  17889.925552  17186.567402   \n",
       "15    5000.0   3000.0   3000.0  10481.550040  14288.930024  12385.240032   \n",
       "16    1000.0   1000.0   1000.0   1000.000000   1000.000000   1000.000000   \n",
       "17   10000.0   5000.0   8000.0  16616.594570  17969.956742  17293.275656   \n",
       "18    5000.0   3000.0   5000.0  13794.276962  16276.566177  15035.421570   \n",
       "19    5000.0   3000.0   3000.0  10937.894631  14562.736779  12750.315705   \n",
       "20   20000.0  15000.0  20000.0  18244.357097  18946.614258  18595.485677   \n",
       "21   10000.0   5000.0   8000.0  15953.097495  17571.858497  16762.477996   \n",
       "22   10000.0   5000.0   8000.0  15477.857612  17286.714567  16382.286089   \n",
       "23    1000.0   1000.0   1000.0   1000.000000   1000.000000   1000.000000   \n",
       "24   15000.0   8000.0  15000.0  17438.601493  18463.160896  17950.881194   \n",
       "25    1000.0   1000.0   1000.0   1000.000000   1000.000000   1000.000000   \n",
       "26    1000.0   1000.0   1000.0   1000.000000   1000.000000   1000.000000   \n",
       "27   10000.0   5000.0   8000.0  16137.374596  17682.424758  16909.899677   \n",
       "28   15000.0   8000.0  15000.0  17357.356392  18414.413835  17885.885114   \n",
       "29   20000.0  15000.0  20000.0  18311.209678  18986.725807  18648.967743   \n",
       "30   10000.0   5000.0   5000.0  14751.470919  16850.882551  15801.176735   \n",
       "31   20000.0  15000.0  20000.0  19200.446840  19520.268104  19360.357472   \n",
       "32    5000.0   3000.0   5000.0  13545.887235  16127.532341  14836.709788   \n",
       "33    5000.0   3000.0   5000.0  13836.632432  16301.979459  15069.305946   \n",
       "34    1000.0   1000.0   1000.0   1000.000000   1000.000000   1000.000000   \n",
       "35    5000.0   3000.0   3000.0   9525.222018  13715.133211  11620.177615   \n",
       "36   10000.0   5000.0   5000.0  14657.435642  16794.461385  15725.948514   \n",
       "37    5000.0   3000.0   3000.0  12094.933025  15256.959815  13675.946420   \n",
       "38    5000.0   3000.0   3000.0   9336.264150  13601.758490  11469.011320   \n",
       "39   10000.0   5000.0   8000.0  15294.368805  17176.621283  16235.495044   \n",
       "40   10000.0   5000.0   8000.0  16045.275911  17627.165547  16836.220729   \n",
       "41    5000.0   3000.0   5000.0  13928.115261  16356.869157  15142.492209   \n",
       "42   10000.0   5000.0   8000.0  16068.363528  17641.018117  16854.690822   \n",
       "43   15000.0   8000.0  15000.0  17071.026972  18242.616183  17656.821578   \n",
       "44    1000.0   1000.0   1000.0   1000.000000   1000.000000   1000.000000   \n",
       "45    5000.0   3000.0   3000.0  11780.403516  15068.242109  13424.322812   \n",
       "47    1000.0   1000.0   1000.0   1000.000000   1000.000000   1000.000000   \n",
       "71   20000.0  15000.0  20000.0  19817.582648  19890.549589  19854.066119   \n",
       "72   15000.0   8000.0  15000.0  17293.235648  18375.941389  17834.588519   \n",
       "\n",
       "         linear_1      linear_2      linear_3  \n",
       "OID                                            \n",
       "1     1036.403510   1045.504387   5027.302632  \n",
       "2     1094.663221   1118.329026   5070.997416  \n",
       "3    11251.501563  13814.376954  12688.626173  \n",
       "4     1000.000000   1000.000000   1000.000000  \n",
       "5     1000.000000   1000.000000   1000.000000  \n",
       "6     1000.000000   1000.000000   1000.000000  \n",
       "7     1002.174940   1002.718675   5001.631205  \n",
       "8     1000.000000   1000.000000   1000.000000  \n",
       "9     2681.417055   3101.771318   6261.062791  \n",
       "10    1996.070904   2245.088631   5747.053178  \n",
       "11    1221.668831   1277.086039   5166.251624  \n",
       "12    1094.924649   1118.655812   5071.193487  \n",
       "13    1000.000000   1000.000000   1000.000000  \n",
       "14    1783.995729   1979.994661   5587.996797  \n",
       "15    1003.116377   1003.895471   5002.337283  \n",
       "16    1000.000000   1000.000000   1000.000000  \n",
       "17    1886.477717   2108.097147   5664.858288  \n",
       "18    1065.878057   1082.347571   5049.408543  \n",
       "19    1004.744472   1005.930589   5003.558354  \n",
       "20    4969.838454   5962.298068   7977.378841  \n",
       "21    1481.137263   1601.421579   5360.852947  \n",
       "22    1310.579682   1388.224602   5232.934761  \n",
       "23    1000.000000   1000.000000   1000.000000  \n",
       "24    2890.038248   3362.547809   6417.528686  \n",
       "25    1000.000000   1000.000000   1000.000000  \n",
       "26    1000.000000   1000.000000   1000.000000  \n",
       "27    1570.137798   1712.672248   5427.603349  \n",
       "28    2753.769660   3192.212075   6315.327245  \n",
       "29    5221.957596   6277.446995   8166.468197  \n",
       "30    1159.081019   1198.851273   5119.310764  \n",
       "31   10576.542309  12970.677886  12182.406732  \n",
       "32    1052.406468   1065.508085   5039.304851  \n",
       "33    1068.498801   1085.623501   5051.374101  \n",
       "34    1000.000000   1000.000000   1000.000000  \n",
       "35    1001.291573   1001.614466   5000.968679  \n",
       "36    1145.882855   1182.353568   5109.412141  \n",
       "37    1013.772196   1017.215245   5010.329147  \n",
       "38    1001.085265   1001.356581   5000.813948  \n",
       "39    1262.287454   1327.859318   5196.715591  \n",
       "40    1523.769687   1654.712109   5392.827265  \n",
       "41    1074.520558   1093.150698   5055.890419  \n",
       "42    1535.026640   1668.783300   5401.269980  \n",
       "43    2347.227020   2684.033776   6010.420265  \n",
       "44    1000.000000   1000.000000   1000.000000  \n",
       "45    1010.308403   1012.885504   5007.731302  \n",
       "47    1000.000000   1000.000000   1000.000000  \n",
       "71   17906.863835  22133.579793  17680.147876  \n",
       "72    2653.195654   3066.494568   6239.896741  "
      ]
     },
     "execution_count": 55,
     "metadata": {},
     "output_type": "execute_result"
    }
   ],
   "source": [
    "sli"
   ]
  },
  {
   "cell_type": "code",
   "execution_count": 56,
   "metadata": {
    "vscode": {
     "languageId": "python"
    }
   },
   "outputs": [],
   "source": [
    "sli.to_csv(os.path.join(r\"data/forfeature/BUFF_DIST\",\"buffer_dist.csv\"))"
   ]
  }
 ],
 "metadata": {
  "kernelspec": {
   "display_name": "GIS",
   "language": "python",
   "name": "gis"
  },
  "orig_nbformat": 4,
  "vscode": {
   "interpreter": {
    "hash": "fc63bdefa82b0e52e69d7b55bf4f4ec43d4fb7e45aa97b7564c8adf5462c5604"
   }
  }
 },
 "nbformat": 4,
 "nbformat_minor": 2
}
